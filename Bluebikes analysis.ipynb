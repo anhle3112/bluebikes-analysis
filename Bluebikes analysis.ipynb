{
 "cells": [
  {
   "cell_type": "markdown",
   "metadata": {},
   "source": [
    "# INTRODUCTION"
   ]
  },
  {
   "cell_type": "markdown",
   "metadata": {},
   "source": [
    "#### This notebook presents initial exploration (mainly descriptive analytics) on the Blue Bikes trip data from January 2019 to June 2019. There are about 774K observations with variables such as Trip Duration, Start Time, Stop Time, Start Station ID/Name/Lat/Long, End Station ID/Name/Lat/Long, Bike ID, User Type, Birth Year and Gender\n",
    "#### Data source: https://www.bluebikes.com/system-data "
   ]
  },
  {
   "cell_type": "code",
   "execution_count": 12,
   "metadata": {},
   "outputs": [],
   "source": [
    "# Import needed libraries and set default formatting\n",
    "import pandas as pd\n",
    "import numpy as np\n",
    "import matplotlib.pyplot as plt\n",
    "import seaborn as sns\n",
    "import os\n",
    "%matplotlib inline\n",
    "sns.set(context='notebook', style='darkgrid', palette='deep', font='sans-serif', font_scale=1.2,\n",
    "        color_codes=True, rc={'figure.figsize':(10,6)})\n",
    "plt.rc('xtick', labelsize=13) \n",
    "plt.rc('ytick', labelsize=13) "
   ]
  },
  {
   "cell_type": "code",
   "execution_count": 3,
   "metadata": {},
   "outputs": [
    {
     "data": {
      "text/plain": [
       "'/Users/macbook/Documents/Academic/Courses/Summer 19/CS602 Python/Homework assignment/HW5/'"
      ]
     },
     "execution_count": 3,
     "metadata": {},
     "output_type": "execute_result"
    }
   ],
   "source": [
    "path = os.getcwd() + '/'\n",
    "path"
   ]
  },
  {
   "cell_type": "code",
   "execution_count": 4,
   "metadata": {},
   "outputs": [],
   "source": [
    "# Read each month of data\n",
    "bluebikes_201901 = pd.read_csv(path + 'bluebikes_201901.csv', sep=',', engine='python')\n",
    "bluebikes_201902 = pd.read_csv(path + 'bluebikes_201902.csv', sep=',', engine='python')\n",
    "bluebikes_201903 = pd.read_csv(path + 'bluebikes_201903.csv', sep=',', engine='python')\n",
    "bluebikes_201904 = pd.read_csv(path + 'bluebikes_201904.csv', sep=',', engine='python')\n",
    "bluebikes_201905 = pd.read_csv(path + 'bluebikes_201902.csv', sep=',', engine='python')\n",
    "bluebikes_201906 = pd.read_csv(path + 'bluebikes_201906.csv', sep=',', engine='python')"
   ]
  },
  {
   "cell_type": "code",
   "execution_count": 5,
   "metadata": {},
   "outputs": [
    {
     "name": "stdout",
     "output_type": "stream",
     "text": [
      "<class 'pandas.core.frame.DataFrame'>\n",
      "Int64Index: 773889 entries, 0 to 274021\n",
      "Data columns (total 15 columns):\n",
      "tripduration               773889 non-null int64\n",
      "starttime                  773889 non-null object\n",
      "stoptime                   773889 non-null object\n",
      "start station id           773889 non-null int64\n",
      "start station name         773889 non-null object\n",
      "start station latitude     773889 non-null float64\n",
      "start station longitude    773889 non-null float64\n",
      "end station id             773889 non-null int64\n",
      "end station name           773889 non-null object\n",
      "end station latitude       773889 non-null float64\n",
      "end station longitude      773889 non-null float64\n",
      "bikeid                     773889 non-null int64\n",
      "usertype                   773889 non-null object\n",
      "birth year                 773889 non-null int64\n",
      "gender                     773889 non-null int64\n",
      "dtypes: float64(4), int64(6), object(5)\n",
      "memory usage: 94.5+ MB\n"
     ]
    }
   ],
   "source": [
    "# Concatenate all months of data\n",
    "bluebikes_all_months = pd.concat([bluebikes_201901,bluebikes_201902,bluebikes_201903,\n",
    "           bluebikes_201904,bluebikes_201905,bluebikes_201906])\n",
    "bluebikes_all_months.info()"
   ]
  },
  {
   "cell_type": "markdown",
   "metadata": {},
   "source": [
    "#### We also need to merge the above data with the data set that has info about each station in order to get the number of dock and municipality of each bike station"
   ]
  },
  {
   "cell_type": "code",
   "execution_count": 6,
   "metadata": {},
   "outputs": [
    {
     "name": "stdout",
     "output_type": "stream",
     "text": [
      "<class 'pandas.core.frame.DataFrame'>\n",
      "RangeIndex: 281 entries, 0 to 280\n",
      "Data columns (total 7 columns):\n",
      "Station ID         281 non-null object\n",
      "Station            281 non-null object\n",
      "Latitude           281 non-null float64\n",
      "Longitude          281 non-null float64\n",
      "Municipality       281 non-null object\n",
      "publiclyExposed    281 non-null int64\n",
      "# of Docks         281 non-null int64\n",
      "dtypes: float64(2), int64(2), object(3)\n",
      "memory usage: 15.4+ KB\n"
     ]
    }
   ],
   "source": [
    "stations = pd.read_csv(path + 'Hubway_Stations_as_of_July_2017.csv', sep=',', engine='python')\n",
    "stations.info()"
   ]
  },
  {
   "cell_type": "code",
   "execution_count": 7,
   "metadata": {},
   "outputs": [],
   "source": [
    "data = pd.merge(bluebikes_all_months, stations, how='inner', left_on='start station name', right_on='Station')"
   ]
  },
  {
   "cell_type": "code",
   "execution_count": 8,
   "metadata": {},
   "outputs": [],
   "source": [
    "# As there are repeated columns, we're going to delete these\n",
    "dropped_columns = ['Station ID', 'Latitude', 'Longitude']\n",
    "data = data.drop(dropped_columns, axis=1)"
   ]
  },
  {
   "cell_type": "code",
   "execution_count": 9,
   "metadata": {},
   "outputs": [
    {
     "name": "stdout",
     "output_type": "stream",
     "text": [
      "<class 'pandas.core.frame.DataFrame'>\n",
      "Int64Index: 756042 entries, 0 to 756041\n",
      "Data columns (total 19 columns):\n",
      "trip_duration         756042 non-null int64\n",
      "start_time            756042 non-null object\n",
      "stop_time             756042 non-null object\n",
      "start_station_id      756042 non-null int64\n",
      "start_station_name    756042 non-null object\n",
      "start_station_lat     756042 non-null float64\n",
      "start_station_lon     756042 non-null float64\n",
      "end_station_id        756042 non-null int64\n",
      "end_station_name      756042 non-null object\n",
      "end_station_lat       756042 non-null float64\n",
      "end_station_lon       756042 non-null float64\n",
      "bike_id               756042 non-null int64\n",
      "user_type             756042 non-null object\n",
      "birth_year            756042 non-null int64\n",
      "gender                756042 non-null int64\n",
      "station               756042 non-null object\n",
      "municipality          756042 non-null object\n",
      "publicly_exposed      756042 non-null int64\n",
      "number_of_docks       756042 non-null int64\n",
      "dtypes: float64(4), int64(8), object(7)\n",
      "memory usage: 115.4+ MB\n"
     ]
    }
   ],
   "source": [
    "# Rename each column for naming consistency\n",
    "data.rename(columns=\n",
    "            {'tripduration':'trip_duration', 'starttime':'start_time','stoptime':'stop_time',\n",
    "             'start station id':'start_station_id','start station name':'start_station_name',\n",
    "             'start station latitude':'start_station_lat','start station longitude':'start_station_lon',\n",
    "             'end station id':'end_station_id','end station name':'end_station_name',\n",
    "             'end station latitude':'end_station_lat','end station longitude':'end_station_lon',\n",
    "             'bikeid':'bike_id','usertype':'user_type','birth year':'birth_year',\n",
    "             'Station':'station', '# of Docks':'number_of_docks','Municipality':'municipality',\n",
    "             'publiclyExposed': 'publicly_exposed'},\n",
    "            inplace=True)\n",
    "data.info()"
   ]
  },
  {
   "cell_type": "markdown",
   "metadata": {},
   "source": [
    "## Number of stations"
   ]
  },
  {
   "cell_type": "code",
   "execution_count": 10,
   "metadata": {},
   "outputs": [
    {
     "data": {
      "text/plain": [
       "265"
      ]
     },
     "execution_count": 10,
     "metadata": {},
     "output_type": "execute_result"
    }
   ],
   "source": [
    "len(data.station.unique())"
   ]
  },
  {
   "cell_type": "markdown",
   "metadata": {},
   "source": [
    "## Number of rides made by each type of riders: Customer vs Subscriber"
   ]
  },
  {
   "cell_type": "code",
   "execution_count": 13,
   "metadata": {},
   "outputs": [
    {
     "data": {
      "text/plain": [
       "Subscriber    619176\n",
       "Customer      136866\n",
       "Name: user_type, dtype: int64"
      ]
     },
     "execution_count": 13,
     "metadata": {},
     "output_type": "execute_result"
    },
    {
     "data": {
      "image/png": "[encoded data removed]",
      "text/plain": [
       "<Figure size 720x432 with 1 Axes>"
      ]
     },
     "metadata": {},
     "output_type": "display_data"
    }
   ],
   "source": [
    "data['user_type'].value_counts().plot.pie().set(\n",
    "title='Number of rides made by Customer and Subscriber riders')\n",
    "data['user_type'].value_counts()"
   ]
  },
  {
   "cell_type": "markdown",
   "metadata": {},
   "source": [
    "## Exploration on trip duration"
   ]
  },
  {
   "cell_type": "markdown",
   "metadata": {},
   "source": [
    "#### As the trip duration is currently in seconds, we'd better convert it to minutes"
   ]
  },
  {
   "cell_type": "code",
   "execution_count": 14,
   "metadata": {},
   "outputs": [],
   "source": [
    "data['trip_duration_min'] = (data['trip_duration'] / 60).astype(int)"
   ]
  },
  {
   "cell_type": "markdown",
   "metadata": {},
   "source": [
    "#### Descriptive stats on trip duration"
   ]
  },
  {
   "cell_type": "code",
   "execution_count": 15,
   "metadata": {},
   "outputs": [
    {
     "data": {
      "text/plain": [
       "count    756042.000000\n",
       "mean         24.479250\n",
       "std         359.787896\n",
       "min           1.000000\n",
       "25%           6.000000\n",
       "50%          11.000000\n",
       "75%          19.000000\n",
       "max       47212.000000\n",
       "Name: trip_duration_min, dtype: float64"
      ]
     },
     "execution_count": 15,
     "metadata": {},
     "output_type": "execute_result"
    },
    {
     "data": {
      "image/png": "[encoded data removed]",
      "text/plain": [
       "<Figure size 720x432 with 1 Axes>"
      ]
     },
     "metadata": {},
     "output_type": "display_data"
    }
   ],
   "source": [
    "green_diamond = dict(markerfacecolor='g', marker='D')\n",
    "fig,ax = plt.subplots()\n",
    "ax.boxplot(data['trip_duration_min'], flierprops=green_diamond)\n",
    "ax.set(title='Boxplot of Trip Duration', xticklabels='', ylabel='Trip duration (mins)')\n",
    "data.trip_duration_min.describe()"
   ]
  },
  {
   "cell_type": "markdown",
   "metadata": {},
   "source": [
    "#### We can see that there are many outliers in the dataset, making it difficult to see the distribution. Let's find out which group of riders has these outliers"
   ]
  },
  {
   "cell_type": "markdown",
   "metadata": {},
   "source": [
    "## Trip duration with regards to user type"
   ]
  },
  {
   "cell_type": "code",
   "execution_count": 16,
   "metadata": {},
   "outputs": [
    {
     "data": {
      "text/plain": [
       "[Text(0, 0.5, 'Trip duration (mins)'),\n",
       " Text(0.5, 0, 'User type'),\n",
       " Text(0.5, 1.0, 'Boxplot of Trip Duration with regards to Customer/Subscriber')]"
      ]
     },
     "execution_count": 16,
     "metadata": {},
     "output_type": "execute_result"
    },
    {
     "data": {
      "image/png": "[encoded data removed]",
      "text/plain": [
       "<Figure size 720x432 with 1 Axes>"
      ]
     },
     "metadata": {},
     "output_type": "display_data"
    }
   ],
   "source": [
    "sns.boxplot(data=data, x='user_type', y='trip_duration_min', width=0.3, color='g').set(\n",
    "title='Boxplot of Trip Duration with regards to Customer/Subscriber',\n",
    "xlabel='User type', ylabel='Trip duration (mins)')"
   ]
  },
  {
   "cell_type": "markdown",
   "metadata": {},
   "source": [
    "#### There are actually outliers in both group of riders, so we may want to filter out outliers with regards to each type of rider. To filter those outliers, however, we need to choose a threshold. From the info on Blue Bikes's website, a trip for Customers can be either Single Ride (30mins) or Adventure Pass (120 mins), whereas for Annual/Monthly Subscribers it is 45 mins. So we can pick 120 mins as the threshold for Customers, and 45 mins for Subscribers\n",
    "##### Blue Bikes website: https://www.bluebikes.com/pricing"
   ]
  },
  {
   "cell_type": "code",
   "execution_count": 17,
   "metadata": {},
   "outputs": [],
   "source": [
    "# Filter outliers with regards to each type of riders\n",
    "data_customer = data[\n",
    "    (data['user_type'] == 'Customer') &\n",
    "    (data['trip_duration_min'] <= 120)\n",
    "]\n",
    "data_subscriber = data[\n",
    "    (data['user_type'] == 'Subscriber') &\n",
    "    (data['trip_duration_min'] <= 45)\n",
    "]\n",
    "data_no_outliers = pd.concat([data_customer,data_subscriber])"
   ]
  },
  {
   "cell_type": "markdown",
   "metadata": {},
   "source": [
    "#### Let's see the boxplot distribution for Trip duration again"
   ]
  },
  {
   "cell_type": "code",
   "execution_count": 18,
   "metadata": {},
   "outputs": [
    {
     "data": {
      "text/plain": [
       "[Text(0, 0.5, 'Trip duration (mins)'),\n",
       " Text(0.5, 0, 'User type'),\n",
       " Text(0.5, 1.0, 'Boxplot of Trip Duration with regards to Customer/Subscriber (Outliers filtered out)')]"
      ]
     },
     "execution_count": 18,
     "metadata": {},
     "output_type": "execute_result"
    },
    {
     "data": {
      "image/png": "[encoded data removed]",
      "text/plain": [
       "<Figure size 720x432 with 1 Axes>"
      ]
     },
     "metadata": {},
     "output_type": "display_data"
    }
   ],
   "source": [
    "sns.boxplot(data=data_no_outliers, x='user_type', y='trip_duration_min',\n",
    "           width=0.3, fliersize=4).set(\n",
    "title='Boxplot of Trip Duration with regards to Customer/Subscriber (Outliers filtered out)',\n",
    "xlabel='User type', ylabel='Trip duration (mins)')"
   ]
  },
  {
   "cell_type": "markdown",
   "metadata": {},
   "source": [
    "#### Now it's easier to see that the trip duration is different for each group of riders. The median tells us that the duration for Customer riders are about 20 mins whereas it's 10 mins for Subscriber riders. Also, looking at the length of the box, we can see that for Customer riders, the length of a trip is much more varied than that for Subscriber"
   ]
  },
  {
   "cell_type": "markdown",
   "metadata": {},
   "source": [
    "#### How about the age of a rider? Is trip duration also different with regards to this variable? "
   ]
  },
  {
   "cell_type": "markdown",
   "metadata": {},
   "source": [
    "## Trip duration with regards to the age of riders"
   ]
  },
  {
   "cell_type": "markdown",
   "metadata": {},
   "source": [
    "#### Let's first see the descriptive stats on the variable Age "
   ]
  },
  {
   "cell_type": "code",
   "execution_count": 19,
   "metadata": {},
   "outputs": [
    {
     "data": {
      "text/plain": [
       "count    745862.000000\n",
       "mean         35.083149\n",
       "std          11.538941\n",
       "min          16.000000\n",
       "25%          26.000000\n",
       "50%          31.000000\n",
       "75%          43.000000\n",
       "max         133.000000\n",
       "Name: age, dtype: float64"
      ]
     },
     "execution_count": 19,
     "metadata": {},
     "output_type": "execute_result"
    }
   ],
   "source": [
    "# As we don't have the varible Age yet, we need to calculate that\n",
    "data_no_outliers['age'] = 2019 - data_no_outliers['birth_year'].astype(int)\n",
    "data_no_outliers.age.describe()"
   ]
  },
  {
   "cell_type": "markdown",
   "metadata": {},
   "source": [
    "#### It looks so absurd that some riders are still able to ride a bike even though they're around 100 years old! (max=133) The reason could be that this field is self-reported by the rider so it will not make much sense to do detailed analysis on this variable"
   ]
  },
  {
   "cell_type": "markdown",
   "metadata": {},
   "source": [
    "#### We can probably look at Trip duration with regards to weekday"
   ]
  },
  {
   "cell_type": "markdown",
   "metadata": {},
   "source": [
    "## Trip duration with regards to weekday"
   ]
  },
  {
   "cell_type": "markdown",
   "metadata": {},
   "source": [
    "#### There's no weekday variable in the data set so we need to figure out how to get this variable"
   ]
  },
  {
   "cell_type": "code",
   "execution_count": 23,
   "metadata": {},
   "outputs": [
    {
     "data": {
      "text/plain": [
       "19       Tuesday\n",
       "20       Tuesday\n",
       "54     Wednesday\n",
       "186     Thursday\n",
       "240       Friday\n",
       "Name: weekday, dtype: object"
      ]
     },
     "execution_count": 23,
     "metadata": {},
     "output_type": "execute_result"
    }
   ],
   "source": [
    "data_no_outliers['start_date'] = pd.to_datetime(data_no_outliers['start_time'].apply(lambda x : x[:10]))\n",
    "data_no_outliers['weekday'] = data_no_outliers['start_date'].dt.day_name()\n",
    "data_no_outliers.weekday.head()"
   ]
  },
  {
   "cell_type": "markdown",
   "metadata": {},
   "source": [
    "#### Now we can see how trip duration is different with regards to weekday"
   ]
  },
  {
   "cell_type": "code",
   "execution_count": 24,
   "metadata": {},
   "outputs": [
    {
     "data": {
      "text/plain": [
       "[Text(0, 0.5, 'Trip duration (mins)'),\n",
       " Text(0.5, 0, 'Weekday'),\n",
       " Text(0.5, 1.0, 'Boxplot of Trip duration with regards to Weekday')]"
      ]
     },
     "execution_count": 24,
     "metadata": {},
     "output_type": "execute_result"
    },
    {
     "data": {
      "image/png": "[encoded data removed]",
      "text/plain": [
       "<Figure size 720x432 with 1 Axes>"
      ]
     },
     "metadata": {},
     "output_type": "display_data"
    }
   ],
   "source": [
    "sns.boxplot(data=data_no_outliers, x='weekday', y='trip_duration_min', saturation=0.7, fliersize=3,\n",
    "           order=['Monday','Tuesday','Wednesday','Thursday','Friday','Saturday','Sunday']).set(\n",
    "           title='Boxplot of Trip duration with regards to Weekday',\n",
    "           ylabel='Trip duration (mins)', xlabel='Weekday')"
   ]
  },
  {
   "cell_type": "markdown",
   "metadata": {},
   "source": [
    "#### The distribution is pretty as much as we expect, with riders taking a little longer trip during weekends. However, is this pattern similar for each group of riders? "
   ]
  },
  {
   "cell_type": "code",
   "execution_count": 25,
   "metadata": {},
   "outputs": [
    {
     "data": {
      "text/plain": [
       "[Text(0, 0.5, 'Trip duration (mins)'),\n",
       " Text(0.5, 0, 'Weekday'),\n",
       " Text(0.5, 1.0, 'Boxplot of Trip duration with regards to Weekday')]"
      ]
     },
     "execution_count": 25,
     "metadata": {},
     "output_type": "execute_result"
    },
    {
     "data": {
      "image/png": "[encoded data removed]",
      "text/plain": [
       "<Figure size 720x432 with 1 Axes>"
      ]
     },
     "metadata": {},
     "output_type": "display_data"
    }
   ],
   "source": [
    "sns.boxplot(data=data_no_outliers, x='weekday', y='trip_duration_min', hue='user_type',\n",
    "            saturation=0.7, fliersize=3,\n",
    "           order=['Monday','Tuesday','Wednesday','Thursday','Friday','Saturday','Sunday']).set(\n",
    "           title='Boxplot of Trip duration with regards to Weekday',\n",
    "           ylabel='Trip duration (mins)', xlabel='Weekday')"
   ]
  },
  {
   "cell_type": "markdown",
   "metadata": {},
   "source": [
    "#### There's definitely a little difference in the behaviors between Customers and Subscribers. Trip duration for Subscribers actually seem to stay the same throughout the week, whereas for Customers, trip duration tends to be longer during weekends "
   ]
  },
  {
   "cell_type": "markdown",
   "metadata": {},
   "source": [
    "## Station Popularity"
   ]
  },
  {
   "cell_type": "markdown",
   "metadata": {},
   "source": [
    "#### Let's see which stations are most popular as a start station (i.e. stations where most riders unlock a bike)"
   ]
  },
  {
   "cell_type": "markdown",
   "metadata": {},
   "source": [
    "##### (Note: As this part of analysis is independent of the Trip duration variable, we're going to use the original dataset instead of the filtered one)"
   ]
  },
  {
   "cell_type": "code",
   "execution_count": 26,
   "metadata": {},
   "outputs": [
    {
     "data": {
      "text/plain": [
       "start_station_name\n",
       "MIT at Mass Ave / Amherst St                        21181\n",
       "MIT Stata Center at Vassar St / Main St             18371\n",
       "Central Square at Mass Ave / Essex St               16908\n",
       "South Station - 700 Atlantic Ave                    15013\n",
       "Kendall T                                           13466\n",
       "MIT Pacific St at Purrington St                     12868\n",
       "Nashua Street at Red Auerbach Way                   11177\n",
       "Harvard Square at Mass Ave/ Dunster                 11052\n",
       "One Kendall Square at Hampshire St / Portland St    10544\n",
       "MIT Vassar St                                        9972\n",
       "dtype: int64"
      ]
     },
     "execution_count": 26,
     "metadata": {},
     "output_type": "execute_result"
    }
   ],
   "source": [
    "data.groupby(by='start_station_name').size().sort_values(ascending=False).head(10)"
   ]
  },
  {
   "cell_type": "markdown",
   "metadata": {},
   "source": [
    "#### Looks like the stations where most people depart are in the area of Cambridge. How about the stations which are the most frequented as an end station?"
   ]
  },
  {
   "cell_type": "code",
   "execution_count": 27,
   "metadata": {},
   "outputs": [
    {
     "data": {
      "text/plain": [
       "end_station_name\n",
       "MIT Stata Center at Vassar St / Main St                        19932\n",
       "MIT at Mass Ave / Amherst St                                   18849\n",
       "Central Square at Mass Ave / Essex St                          16858\n",
       "Nashua Street at Red Auerbach Way                              16561\n",
       "South Station - 700 Atlantic Ave                               14990\n",
       "MIT Pacific St at Purrington St                                11454\n",
       "Kendall T                                                      11328\n",
       "Harvard Square at Mass Ave/ Dunster                            11055\n",
       "MIT Vassar St                                                   9373\n",
       "Christian Science Plaza - Massachusetts Ave at Westland Ave     9260\n",
       "dtype: int64"
      ]
     },
     "execution_count": 27,
     "metadata": {},
     "output_type": "execute_result"
    }
   ],
   "source": [
    "data.groupby(by='end_station_name').size().sort_values(ascending=False).head(10)"
   ]
  },
  {
   "cell_type": "markdown",
   "metadata": {},
   "source": [
    "#### Cambridge is at the top again, with many stations frequented by riders as end point"
   ]
  },
  {
   "cell_type": "markdown",
   "metadata": {},
   "source": [
    "#### Let's have a look at the number of docks at all stations"
   ]
  },
  {
   "cell_type": "markdown",
   "metadata": {},
   "source": [
    "## Number of docks at a station"
   ]
  },
  {
   "cell_type": "code",
   "execution_count": 28,
   "metadata": {},
   "outputs": [
    {
     "data": {
      "text/plain": [
       "[Text(0.5, 0, 'Number of docks'),\n",
       " Text(0.5, 1.0, 'Boxplot: Number of docks at stations')]"
      ]
     },
     "execution_count": 28,
     "metadata": {},
     "output_type": "execute_result"
    },
    {
     "data": {
      "image/png": "[encoded data removed]",
      "text/plain": [
       "<Figure size 720x432 with 1 Axes>"
      ]
     },
     "metadata": {},
     "output_type": "display_data"
    }
   ],
   "source": [
    "sns.boxplot(data['number_of_docks'], color='g', width=0.3).set(\n",
    "    title='Boxplot: Number of docks at stations',\n",
    "xlabel='Number of docks')"
   ]
  },
  {
   "cell_type": "markdown",
   "metadata": {},
   "source": [
    "#### In general, there are 10 to 25 docks at each station, however, there are stations with significantly more docks. Let's see if these stations are in Cambridge (or unexpectly any other areas)"
   ]
  },
  {
   "cell_type": "code",
   "execution_count": 29,
   "metadata": {},
   "outputs": [
    {
     "data": {
      "text/plain": [
       "station\n",
       "South Station - 700 Atlantic Ave                       47\n",
       "Nashua Street at Red Auerbach Way                      37\n",
       "TD Garden - West End Park                              35\n",
       "Maverick Square - Lewis Mall                           33\n",
       "Copley Square - Dartmouth St at Boylston St            33\n",
       "Packard's Corner - Commonwealth Ave at Brighton Ave    27\n",
       "Newbury St at Hereford St                              27\n",
       "MIT at Mass Ave / Amherst St                           27\n",
       "MIT Stata Center at Vassar St / Main St                27\n",
       "Name: number_of_docks, dtype: int64"
      ]
     },
     "execution_count": 29,
     "metadata": {},
     "output_type": "execute_result"
    }
   ],
   "source": [
    "groupby_stations = data.groupby('station').mean()\n",
    "above_25_docks_stations = groupby_stations[groupby_stations['number_of_docks'] > 25]\n",
    "above_25_docks_stations['number_of_docks'].astype(int).sort_values(ascending=False).head(10)"
   ]
  },
  {
   "cell_type": "markdown",
   "metadata": {},
   "source": [
    "#### Interestingly, even though Cambridge is the most popular area where people start and end their rides, the stations with the most number of docks are NOT in this area. However, it completely makes sense for South Station and TD Garden to have the most number of docks"
   ]
  },
  {
   "cell_type": "markdown",
   "metadata": {},
   "source": [
    "#### Let's see how many docks there are in general at the bike stations in the Cambridge area"
   ]
  },
  {
   "cell_type": "code",
   "execution_count": 30,
   "metadata": {},
   "outputs": [
    {
     "data": {
      "text/plain": [
       "[Text(0, 0.5, 'Proportion of stations'),\n",
       " Text(0.5, 0, 'Number of docks at a station'),\n",
       " Text(0.5, 1.0, 'Number of docks at Cambridge stations')]"
      ]
     },
     "execution_count": 30,
     "metadata": {},
     "output_type": "execute_result"
    },
    {
     "data": {
      "image/png": "[encoded data removed]",
      "text/plain": [
       "<Figure size 720x432 with 1 Axes>"
      ]
     },
     "metadata": {},
     "output_type": "display_data"
    }
   ],
   "source": [
    "stations_in_Cambridge = data[data['municipality'] == 'Cambridge'].groupby('station').mean()\n",
    "stations_in_Cambridge['number_of_docks'].plot.hist(density=True, grid=True, color='g', alpha=0.9).set(\n",
    "    title = 'Number of docks at Cambridge stations',\n",
    "    xlabel='Number of docks at a station', ylabel='Proportion of stations')"
   ]
  },
  {
   "cell_type": "markdown",
   "metadata": {},
   "source": [
    "#### It seems that about half of stations in the Cambridge area each have 18-19 docks, and just a very small proportion of them have more than 25 docks"
   ]
  },
  {
   "cell_type": "markdown",
   "metadata": {},
   "source": [
    "## Unavailability of bikes/vacant docks at a station"
   ]
  },
  {
   "cell_type": "markdown",
   "metadata": {},
   "source": [
    "#### Meeting the demand for bicycles and vacant docks is a particularly challenging problem for bike sharing programs due to inherent imbalances in the renting and return rates at the various stations. After examining the overall popularity of a station, we may also want to see if a station experiences problems such as bike shortage or dock overload. While the first situation refers to the lack of available bikes at a station (i.e. no bike to take out), the second one happens when all the docks are occupied (i.e. no vacant dock to return a bike to). Both the situations cause inconvenience to riders; they either have to wait at that station or end up navigating to another station to get the desired service (available bike/vacant dock)"
   ]
  },
  {
   "cell_type": "markdown",
   "metadata": {},
   "source": [
    "#### We will examine if a station has one of these two problems by calculating the net bikes at a station"
   ]
  },
  {
   "cell_type": "markdown",
   "metadata": {},
   "source": [
    "#### Net number of bikes = (number of bikes in - number of bikes out) on an average hour"
   ]
  },
  {
   "cell_type": "markdown",
   "metadata": {},
   "source": [
    "#### If net number of bikes > 0, a station is probably full of bikes, i.e. there's no vacant dock. On the other hand, if net number of docks < 0, there's no available bike at a station"
   ]
  },
  {
   "cell_type": "code",
   "execution_count": 31,
   "metadata": {},
   "outputs": [
    {
     "data": {
      "text/plain": [
       "0    2019-01-01\n",
       "1    2019-01-01\n",
       "2    2019-01-01\n",
       "3    2019-01-01\n",
       "4    2019-01-01\n",
       "Name: start_date, dtype: object"
      ]
     },
     "execution_count": 31,
     "metadata": {},
     "output_type": "execute_result"
    }
   ],
   "source": [
    "# We need to get the date and the hour when a bike is unlocked\n",
    "data['start_hour'] = data['start_time'].apply(lambda x : x[11:13])\n",
    "data.start_hour.head()\n",
    "data['start_date'] = data['start_time'].apply(lambda x : x[:10])\n",
    "data.start_date.head()"
   ]
  },
  {
   "cell_type": "code",
   "execution_count": 32,
   "metadata": {},
   "outputs": [
    {
     "data": {
      "text/html": [
       "<div>\n",
       "<style scoped>\n",
       "    .dataframe tbody tr th:only-of-type {\n",
       "        vertical-align: middle;\n",
       "    }\n",
       "\n",
       "    .dataframe tbody tr th {\n",
       "        vertical-align: top;\n",
       "    }\n",
       "\n",
       "    .dataframe thead th {\n",
       "        text-align: right;\n",
       "    }\n",
       "</style>\n",
       "<table border=\"1\" class=\"dataframe\">\n",
       "  <thead>\n",
       "    <tr style=\"text-align: right;\">\n",
       "      <th></th>\n",
       "      <th>start_station_name</th>\n",
       "      <th>start_date</th>\n",
       "      <th>start_hour</th>\n",
       "      <th>number_bikes_out</th>\n",
       "    </tr>\n",
       "  </thead>\n",
       "  <tbody>\n",
       "    <tr>\n",
       "      <th>0</th>\n",
       "      <td>175 N Harvard St</td>\n",
       "      <td>2019-01-01</td>\n",
       "      <td>12</td>\n",
       "      <td>1</td>\n",
       "    </tr>\n",
       "    <tr>\n",
       "      <th>1</th>\n",
       "      <td>175 N Harvard St</td>\n",
       "      <td>2019-01-01</td>\n",
       "      <td>13</td>\n",
       "      <td>2</td>\n",
       "    </tr>\n",
       "    <tr>\n",
       "      <th>2</th>\n",
       "      <td>175 N Harvard St</td>\n",
       "      <td>2019-01-01</td>\n",
       "      <td>15</td>\n",
       "      <td>4</td>\n",
       "    </tr>\n",
       "    <tr>\n",
       "      <th>3</th>\n",
       "      <td>175 N Harvard St</td>\n",
       "      <td>2019-01-01</td>\n",
       "      <td>21</td>\n",
       "      <td>1</td>\n",
       "    </tr>\n",
       "    <tr>\n",
       "      <th>4</th>\n",
       "      <td>175 N Harvard St</td>\n",
       "      <td>2019-01-02</td>\n",
       "      <td>02</td>\n",
       "      <td>1</td>\n",
       "    </tr>\n",
       "  </tbody>\n",
       "</table>\n",
       "</div>"
      ],
      "text/plain": [
       "  start_station_name  start_date start_hour  number_bikes_out\n",
       "0   175 N Harvard St  2019-01-01         12                 1\n",
       "1   175 N Harvard St  2019-01-01         13                 2\n",
       "2   175 N Harvard St  2019-01-01         15                 4\n",
       "3   175 N Harvard St  2019-01-01         21                 1\n",
       "4   175 N Harvard St  2019-01-02         02                 1"
      ]
     },
     "execution_count": 32,
     "metadata": {},
     "output_type": "execute_result"
    }
   ],
   "source": [
    "# Then we can calculate number of bikes taken out at a station, on a single date, at a single hour\n",
    "bikes_out = data.groupby(by=['start_station_name','start_date','start_hour'])['bike_id'].count()\n",
    "bikes_out = bikes_out.reset_index()\n",
    "bikes_out.rename(columns={'bike_id':'number_bikes_out'}, inplace=True)\n",
    "bikes_out.head()"
   ]
  },
  {
   "cell_type": "code",
   "execution_count": 33,
   "metadata": {},
   "outputs": [
    {
     "data": {
      "text/html": [
       "<div>\n",
       "<style scoped>\n",
       "    .dataframe tbody tr th:only-of-type {\n",
       "        vertical-align: middle;\n",
       "    }\n",
       "\n",
       "    .dataframe tbody tr th {\n",
       "        vertical-align: top;\n",
       "    }\n",
       "\n",
       "    .dataframe thead th {\n",
       "        text-align: right;\n",
       "    }\n",
       "</style>\n",
       "<table border=\"1\" class=\"dataframe\">\n",
       "  <thead>\n",
       "    <tr style=\"text-align: right;\">\n",
       "      <th></th>\n",
       "      <th>start_station_name</th>\n",
       "      <th>start_hour</th>\n",
       "      <th>number_bikes_out</th>\n",
       "    </tr>\n",
       "  </thead>\n",
       "  <tbody>\n",
       "    <tr>\n",
       "      <th>0</th>\n",
       "      <td>175 N Harvard St</td>\n",
       "      <td>00</td>\n",
       "      <td>1.111111</td>\n",
       "    </tr>\n",
       "    <tr>\n",
       "      <th>1</th>\n",
       "      <td>175 N Harvard St</td>\n",
       "      <td>01</td>\n",
       "      <td>1.571429</td>\n",
       "    </tr>\n",
       "    <tr>\n",
       "      <th>2</th>\n",
       "      <td>175 N Harvard St</td>\n",
       "      <td>02</td>\n",
       "      <td>1.166667</td>\n",
       "    </tr>\n",
       "    <tr>\n",
       "      <th>3</th>\n",
       "      <td>175 N Harvard St</td>\n",
       "      <td>03</td>\n",
       "      <td>1.250000</td>\n",
       "    </tr>\n",
       "    <tr>\n",
       "      <th>4</th>\n",
       "      <td>175 N Harvard St</td>\n",
       "      <td>04</td>\n",
       "      <td>1.500000</td>\n",
       "    </tr>\n",
       "  </tbody>\n",
       "</table>\n",
       "</div>"
      ],
      "text/plain": [
       "  start_station_name start_hour  number_bikes_out\n",
       "0   175 N Harvard St         00          1.111111\n",
       "1   175 N Harvard St         01          1.571429\n",
       "2   175 N Harvard St         02          1.166667\n",
       "3   175 N Harvard St         03          1.250000\n",
       "4   175 N Harvard St         04          1.500000"
      ]
     },
     "execution_count": 33,
     "metadata": {},
     "output_type": "execute_result"
    }
   ],
   "source": [
    "# Next, calculate the AVERAGE number of bikes taken out at a station at EACH hour\n",
    "bikes_out_by_hour = bikes_out.groupby(by=['start_station_name','start_hour'])['number_bikes_out'].mean()\n",
    "bikes_out_by_hour = bikes_out_by_hour.reset_index()\n",
    "bikes_out_by_hour.head()"
   ]
  },
  {
   "cell_type": "code",
   "execution_count": 34,
   "metadata": {},
   "outputs": [
    {
     "data": {
      "text/plain": [
       "start_station_name\n",
       "MIT at Mass Ave / Amherst St               6.496084\n",
       "MIT Stata Center at Vassar St / Main St    5.876062\n",
       "South Station - 700 Atlantic Ave           5.392942\n",
       "Central Square at Mass Ave / Essex St      5.316779\n",
       "Nashua Street at Red Auerbach Way          4.690549\n",
       "Name: number_bikes_out, dtype: float64"
      ]
     },
     "execution_count": 34,
     "metadata": {},
     "output_type": "execute_result"
    }
   ],
   "source": [
    "# Finally, we can get the AVERAGE number of bikes taken out at a station\n",
    "hourly_number_bikes_out = bikes_out_by_hour.groupby('start_station_name')['number_bikes_out'].mean()\n",
    "hourly_number_bikes_out.sort_values(ascending=False).head()"
   ]
  },
  {
   "cell_type": "markdown",
   "metadata": {},
   "source": [
    "#### We are going to repeat the above steps, but instead of figuring out the number of bikes taken out, we're calculating the number of bikes put back into a dock"
   ]
  },
  {
   "cell_type": "code",
   "execution_count": 35,
   "metadata": {},
   "outputs": [
    {
     "data": {
      "text/plain": [
       "0    2019-01-01\n",
       "1    2019-01-01\n",
       "2    2019-01-01\n",
       "3    2019-01-01\n",
       "4    2019-01-01\n",
       "Name: stop_date, dtype: object"
      ]
     },
     "execution_count": 35,
     "metadata": {},
     "output_type": "execute_result"
    }
   ],
   "source": [
    "data['stop_hour'] = data['stop_time'].apply(lambda x : x[11:13])\n",
    "data.stop_hour.head()\n",
    "data['stop_date'] = data['stop_time'].apply(lambda x : x[:10])\n",
    "data.stop_date.head()"
   ]
  },
  {
   "cell_type": "code",
   "execution_count": 36,
   "metadata": {},
   "outputs": [
    {
     "data": {
      "text/html": [
       "<div>\n",
       "<style scoped>\n",
       "    .dataframe tbody tr th:only-of-type {\n",
       "        vertical-align: middle;\n",
       "    }\n",
       "\n",
       "    .dataframe tbody tr th {\n",
       "        vertical-align: top;\n",
       "    }\n",
       "\n",
       "    .dataframe thead th {\n",
       "        text-align: right;\n",
       "    }\n",
       "</style>\n",
       "<table border=\"1\" class=\"dataframe\">\n",
       "  <thead>\n",
       "    <tr style=\"text-align: right;\">\n",
       "      <th></th>\n",
       "      <th>end_station_name</th>\n",
       "      <th>stop_date</th>\n",
       "      <th>stop_hour</th>\n",
       "      <th>number_bikes_in</th>\n",
       "    </tr>\n",
       "  </thead>\n",
       "  <tbody>\n",
       "    <tr>\n",
       "      <th>0</th>\n",
       "      <td>175 N Harvard St</td>\n",
       "      <td>2019-01-01</td>\n",
       "      <td>12</td>\n",
       "      <td>2</td>\n",
       "    </tr>\n",
       "    <tr>\n",
       "      <th>1</th>\n",
       "      <td>175 N Harvard St</td>\n",
       "      <td>2019-01-01</td>\n",
       "      <td>19</td>\n",
       "      <td>1</td>\n",
       "    </tr>\n",
       "    <tr>\n",
       "      <th>2</th>\n",
       "      <td>175 N Harvard St</td>\n",
       "      <td>2019-01-02</td>\n",
       "      <td>02</td>\n",
       "      <td>1</td>\n",
       "    </tr>\n",
       "    <tr>\n",
       "      <th>3</th>\n",
       "      <td>175 N Harvard St</td>\n",
       "      <td>2019-01-02</td>\n",
       "      <td>06</td>\n",
       "      <td>1</td>\n",
       "    </tr>\n",
       "    <tr>\n",
       "      <th>4</th>\n",
       "      <td>175 N Harvard St</td>\n",
       "      <td>2019-01-02</td>\n",
       "      <td>07</td>\n",
       "      <td>1</td>\n",
       "    </tr>\n",
       "  </tbody>\n",
       "</table>\n",
       "</div>"
      ],
      "text/plain": [
       "   end_station_name   stop_date stop_hour  number_bikes_in\n",
       "0  175 N Harvard St  2019-01-01        12                2\n",
       "1  175 N Harvard St  2019-01-01        19                1\n",
       "2  175 N Harvard St  2019-01-02        02                1\n",
       "3  175 N Harvard St  2019-01-02        06                1\n",
       "4  175 N Harvard St  2019-01-02        07                1"
      ]
     },
     "execution_count": 36,
     "metadata": {},
     "output_type": "execute_result"
    }
   ],
   "source": [
    "bikes_in = data.groupby(by=['end_station_name','stop_date','stop_hour'])['bike_id'].count()\n",
    "bikes_in = bikes_in.reset_index()\n",
    "bikes_in.rename(columns={'bike_id':'number_bikes_in'}, inplace=True)\n",
    "bikes_in.head()"
   ]
  },
  {
   "cell_type": "code",
   "execution_count": 37,
   "metadata": {},
   "outputs": [
    {
     "data": {
      "text/html": [
       "<div>\n",
       "<style scoped>\n",
       "    .dataframe tbody tr th:only-of-type {\n",
       "        vertical-align: middle;\n",
       "    }\n",
       "\n",
       "    .dataframe tbody tr th {\n",
       "        vertical-align: top;\n",
       "    }\n",
       "\n",
       "    .dataframe thead th {\n",
       "        text-align: right;\n",
       "    }\n",
       "</style>\n",
       "<table border=\"1\" class=\"dataframe\">\n",
       "  <thead>\n",
       "    <tr style=\"text-align: right;\">\n",
       "      <th></th>\n",
       "      <th>end_station_name</th>\n",
       "      <th>stop_hour</th>\n",
       "      <th>number_bikes_in</th>\n",
       "    </tr>\n",
       "  </thead>\n",
       "  <tbody>\n",
       "    <tr>\n",
       "      <th>0</th>\n",
       "      <td>175 N Harvard St</td>\n",
       "      <td>00</td>\n",
       "      <td>1.380952</td>\n",
       "    </tr>\n",
       "    <tr>\n",
       "      <th>1</th>\n",
       "      <td>175 N Harvard St</td>\n",
       "      <td>01</td>\n",
       "      <td>1.214286</td>\n",
       "    </tr>\n",
       "    <tr>\n",
       "      <th>2</th>\n",
       "      <td>175 N Harvard St</td>\n",
       "      <td>02</td>\n",
       "      <td>1.375000</td>\n",
       "    </tr>\n",
       "    <tr>\n",
       "      <th>3</th>\n",
       "      <td>175 N Harvard St</td>\n",
       "      <td>03</td>\n",
       "      <td>1.666667</td>\n",
       "    </tr>\n",
       "    <tr>\n",
       "      <th>4</th>\n",
       "      <td>175 N Harvard St</td>\n",
       "      <td>04</td>\n",
       "      <td>1.000000</td>\n",
       "    </tr>\n",
       "  </tbody>\n",
       "</table>\n",
       "</div>"
      ],
      "text/plain": [
       "   end_station_name stop_hour  number_bikes_in\n",
       "0  175 N Harvard St        00         1.380952\n",
       "1  175 N Harvard St        01         1.214286\n",
       "2  175 N Harvard St        02         1.375000\n",
       "3  175 N Harvard St        03         1.666667\n",
       "4  175 N Harvard St        04         1.000000"
      ]
     },
     "execution_count": 37,
     "metadata": {},
     "output_type": "execute_result"
    }
   ],
   "source": [
    "bikes_in_by_hour = bikes_in.groupby(by=['end_station_name','stop_hour'])['number_bikes_in'].mean()\n",
    "bikes_in_by_hour = bikes_in_by_hour.reset_index()\n",
    "bikes_in_by_hour.head()"
   ]
  },
  {
   "cell_type": "code",
   "execution_count": 38,
   "metadata": {},
   "outputs": [
    {
     "data": {
      "text/plain": [
       "end_station_name\n",
       "MIT Stata Center at Vassar St / Main St    6.386461\n",
       "MIT at Mass Ave / Amherst St               5.883798\n",
       "Nashua Street at Red Auerbach Way          5.860210\n",
       "Central Square at Mass Ave / Essex St      5.306484\n",
       "South Station - 700 Atlantic Ave           5.292352\n",
       "Name: number_bikes_in, dtype: float64"
      ]
     },
     "execution_count": 38,
     "metadata": {},
     "output_type": "execute_result"
    }
   ],
   "source": [
    "hourly_number_bikes_in = bikes_in_by_hour.groupby('end_station_name')['number_bikes_in'].mean()\n",
    "hourly_number_bikes_in.sort_values(ascending=False).head()"
   ]
  },
  {
   "cell_type": "markdown",
   "metadata": {},
   "source": [
    "#### Now we can compare number of bikes in and number of bikes out at a station within one hour"
   ]
  },
  {
   "cell_type": "code",
   "execution_count": 39,
   "metadata": {},
   "outputs": [],
   "source": [
    "hourly_number_bikes_in_out = pd.merge(hourly_number_bikes_in, hourly_number_bikes_out, left_index=True, right_index=True)\n",
    "hourly_number_bikes_in_out['net_bikes']=hourly_number_bikes_in_out.number_bikes_in - hourly_number_bikes_in_out.number_bikes_out"
   ]
  },
  {
   "cell_type": "code",
   "execution_count": 40,
   "metadata": {},
   "outputs": [
    {
     "data": {
      "text/html": [
       "<div>\n",
       "<style scoped>\n",
       "    .dataframe tbody tr th:only-of-type {\n",
       "        vertical-align: middle;\n",
       "    }\n",
       "\n",
       "    .dataframe tbody tr th {\n",
       "        vertical-align: top;\n",
       "    }\n",
       "\n",
       "    .dataframe thead th {\n",
       "        text-align: right;\n",
       "    }\n",
       "</style>\n",
       "<table border=\"1\" class=\"dataframe\">\n",
       "  <thead>\n",
       "    <tr style=\"text-align: right;\">\n",
       "      <th></th>\n",
       "      <th>number_bikes_in</th>\n",
       "      <th>number_bikes_out</th>\n",
       "      <th>net_bikes</th>\n",
       "    </tr>\n",
       "  </thead>\n",
       "  <tbody>\n",
       "    <tr>\n",
       "      <th>One Kendall Square at Hampshire St / Portland St</th>\n",
       "      <td>3.261335</td>\n",
       "      <td>3.877567</td>\n",
       "      <td>-0.616232</td>\n",
       "    </tr>\n",
       "    <tr>\n",
       "      <th>TD Garden - West End Park</th>\n",
       "      <td>2.526361</td>\n",
       "      <td>3.141297</td>\n",
       "      <td>-0.614936</td>\n",
       "    </tr>\n",
       "    <tr>\n",
       "      <th>MIT at Mass Ave / Amherst St</th>\n",
       "      <td>5.883798</td>\n",
       "      <td>6.496084</td>\n",
       "      <td>-0.612285</td>\n",
       "    </tr>\n",
       "    <tr>\n",
       "      <th>Beacon St at Massachusetts Ave</th>\n",
       "      <td>4.244582</td>\n",
       "      <td>4.661278</td>\n",
       "      <td>-0.416696</td>\n",
       "    </tr>\n",
       "    <tr>\n",
       "      <th>Kendall T</th>\n",
       "      <td>4.094604</td>\n",
       "      <td>4.506062</td>\n",
       "      <td>-0.411459</td>\n",
       "    </tr>\n",
       "    <tr>\n",
       "      <th>MIT Pacific St at Purrington St</th>\n",
       "      <td>3.783106</td>\n",
       "      <td>4.139574</td>\n",
       "      <td>-0.356467</td>\n",
       "    </tr>\n",
       "    <tr>\n",
       "      <th>359 Broadway - Broadway at Fayette Street</th>\n",
       "      <td>2.140435</td>\n",
       "      <td>2.452123</td>\n",
       "      <td>-0.311688</td>\n",
       "    </tr>\n",
       "    <tr>\n",
       "      <th>Mattapan Library</th>\n",
       "      <td>1.229167</td>\n",
       "      <td>1.537037</td>\n",
       "      <td>-0.307870</td>\n",
       "    </tr>\n",
       "    <tr>\n",
       "      <th>Archdale Rd at Washington St</th>\n",
       "      <td>1.713355</td>\n",
       "      <td>2.008253</td>\n",
       "      <td>-0.294898</td>\n",
       "    </tr>\n",
       "    <tr>\n",
       "      <th>Inman Square at Vellucci Plaza / Hampshire St</th>\n",
       "      <td>1.895427</td>\n",
       "      <td>2.177757</td>\n",
       "      <td>-0.282330</td>\n",
       "    </tr>\n",
       "  </tbody>\n",
       "</table>\n",
       "</div>"
      ],
      "text/plain": [
       "                                                  number_bikes_in  \\\n",
       "One Kendall Square at Hampshire St / Portland St         3.261335   \n",
       "TD Garden - West End Park                                2.526361   \n",
       "MIT at Mass Ave / Amherst St                             5.883798   \n",
       "Beacon St at Massachusetts Ave                           4.244582   \n",
       "Kendall T                                                4.094604   \n",
       "MIT Pacific St at Purrington St                          3.783106   \n",
       "359 Broadway - Broadway at Fayette Street                2.140435   \n",
       "Mattapan Library                                         1.229167   \n",
       "Archdale Rd at Washington St                             1.713355   \n",
       "Inman Square at Vellucci Plaza / Hampshire St            1.895427   \n",
       "\n",
       "                                                  number_bikes_out  net_bikes  \n",
       "One Kendall Square at Hampshire St / Portland St          3.877567  -0.616232  \n",
       "TD Garden - West End Park                                 3.141297  -0.614936  \n",
       "MIT at Mass Ave / Amherst St                              6.496084  -0.612285  \n",
       "Beacon St at Massachusetts Ave                            4.661278  -0.416696  \n",
       "Kendall T                                                 4.506062  -0.411459  \n",
       "MIT Pacific St at Purrington St                           4.139574  -0.356467  \n",
       "359 Broadway - Broadway at Fayette Street                 2.452123  -0.311688  \n",
       "Mattapan Library                                          1.537037  -0.307870  \n",
       "Archdale Rd at Washington St                              2.008253  -0.294898  \n",
       "Inman Square at Vellucci Plaza / Hampshire St             2.177757  -0.282330  "
      ]
     },
     "execution_count": 40,
     "metadata": {},
     "output_type": "execute_result"
    }
   ],
   "source": [
    "hourly_number_bikes_in_out.sort_values(by='net_bikes', ascending=True).head(10)"
   ]
  },
  {
   "cell_type": "markdown",
   "metadata": {},
   "source": [
    "#### We can see that the stations that are more likely to experience a lack of bikes are around MIT Kendal Sq\n"
   ]
  },
  {
   "cell_type": "markdown",
   "metadata": {},
   "source": [
    "## Distance traveled"
   ]
  },
  {
   "cell_type": "markdown",
   "metadata": {},
   "source": [
    "#### Note: We're going to calculate the distance traveled by riders using two coordinate points in the data (i.e. start station latitude/longitude, end station latitude/longitude). However, as in many cases, riders unlock and return a bike at a same station (i.e. the start station and end station have the same latitude/longitude coordinates), so the results may contain many 0"
   ]
  },
  {
   "cell_type": "code",
   "execution_count": 42,
   "metadata": {},
   "outputs": [
    {
     "data": {
      "text/plain": [
       "0    1.6\n",
       "1    1.6\n",
       "2    1.1\n",
       "3    0.6\n",
       "4    0.6\n",
       "Name: distance, dtype: float64"
      ]
     },
     "execution_count": 42,
     "metadata": {},
     "output_type": "execute_result"
    }
   ],
   "source": [
    "import math\n",
    "def distance(lat1, lon1, lat2, lon2):\n",
    "    # Function to calculate distance between two points using lat/long coordinates\n",
    "    radius = 7917.5 # mile\n",
    "    dlat = math.radians(lat2-lat1)\n",
    "    dlon = math.radians(lon2-lon1)\n",
    "    a = math.sin(dlat/2) * math.sin(dlat/2) + math.cos(math.radians(lat1)) \\\n",
    "* math.cos(math.radians(lat2)) * math.sin(dlon/2) * math.sin(dlon/2)\n",
    "    c = 2 * math.atan2(math.sqrt(a), math.sqrt(1-a))\n",
    "    d = radius * c\n",
    "    return d\n",
    "\n",
    "data['distance'] = data.apply(lambda row: round(distance(\n",
    "    row['start_station_lat'], row['start_station_lon'], row['end_station_lat'], row['end_station_lon']), 1),\n",
    "                             axis=1)\n",
    "\n",
    "data.distance.head()"
   ]
  },
  {
   "cell_type": "markdown",
   "metadata": {},
   "source": [
    "#### Let's see how many rides in which a person unlocks and returns a bike at a same station"
   ]
  },
  {
   "cell_type": "code",
   "execution_count": 43,
   "metadata": {},
   "outputs": [
    {
     "data": {
      "text/plain": [
       "26797"
      ]
     },
     "execution_count": 43,
     "metadata": {},
     "output_type": "execute_result"
    }
   ],
   "source": [
    "data.distance[data['distance'] == 0].count()"
   ]
  },
  {
   "cell_type": "markdown",
   "metadata": {},
   "source": [
    "#### And where are these trips with 0-mile distance?"
   ]
  },
  {
   "cell_type": "code",
   "execution_count": 44,
   "metadata": {},
   "outputs": [
    {
     "data": {
      "text/plain": [
       "[Text(0.5, 1.0, 'Municipalities with 0-mile distance')]"
      ]
     },
     "execution_count": 44,
     "metadata": {},
     "output_type": "execute_result"
    },
    {
     "data": {
      "image/png": "[encoded data removed]",
      "text/plain": [
       "<Figure size 720x432 with 1 Axes>"
      ]
     },
     "metadata": {},
     "output_type": "display_data"
    }
   ],
   "source": [
    "data.municipality[data['distance'] == 0].value_counts().plot.pie().set(\n",
    "title='Municipalities with 0-mile distance')"
   ]
  },
  {
   "cell_type": "markdown",
   "metadata": {},
   "source": [
    "#### So Boston and Cambridge are where people tend to do a round trip"
   ]
  },
  {
   "cell_type": "markdown",
   "metadata": {},
   "source": [
    "#### Let's see the distribution of the distance variable"
   ]
  },
  {
   "cell_type": "code",
   "execution_count": 45,
   "metadata": {},
   "outputs": [
    {
     "data": {
      "text/plain": [
       "count    756042.000000\n",
       "mean          2.399981\n",
       "std           1.678836\n",
       "min           0.000000\n",
       "25%           1.200000\n",
       "50%           2.000000\n",
       "75%           3.200000\n",
       "max          15.700000\n",
       "Name: distance, dtype: float64"
      ]
     },
     "execution_count": 45,
     "metadata": {},
     "output_type": "execute_result"
    },
    {
     "data": {
      "image/png": "[encoded data removed]",
      "text/plain": [
       "<Figure size 720x432 with 1 Axes>"
      ]
     },
     "metadata": {},
     "output_type": "display_data"
    }
   ],
   "source": [
    "data.distance.plot.hist(bins=8,density=False, color='g', alpha=0.8, fontsize=13).set(\n",
    "    title='Distribution of the distance variable',\n",
    "    xlabel='Trip distance (miles)', ylabel='Number of trips')\n",
    "data.distance.describe()"
   ]
  },
  {
   "cell_type": "markdown",
   "metadata": {},
   "source": [
    "#### So most of the trips are under 3.2 miles"
   ]
  },
  {
   "cell_type": "markdown",
   "metadata": {},
   "source": [
    "#### Let's see if the trip distance is different for Customer riders vs Subscriber riders"
   ]
  },
  {
   "cell_type": "code",
   "execution_count": 46,
   "metadata": {},
   "outputs": [
    {
     "data": {
      "text/plain": [
       "0    0.5 - 2\n",
       "1    0.5 - 2\n",
       "2    0.5 - 2\n",
       "3    0.5 - 2\n",
       "4    0.5 - 2\n",
       "Name: distance_bins, dtype: category\n",
       "Categories (4, object): [0.5 - 2 < 2 - 3.5 < 3.5 - 5 < More than 5]"
      ]
     },
     "execution_count": 46,
     "metadata": {},
     "output_type": "execute_result"
    }
   ],
   "source": [
    "# Create distance intervals\n",
    "data['distance_bins'] = pd.cut(data.distance, bins=[0.5,2,3.5,5,15.7],\n",
    "       labels=(['0.5 - 2','2 - 3.5','3.5 - 5','More than 5']), right=True)\n",
    "data.distance_bins.head()"
   ]
  },
  {
   "cell_type": "code",
   "execution_count": 47,
   "metadata": {},
   "outputs": [
    {
     "data": {
      "text/plain": [
       "[Text(0, 0.5, 'Distance (miles)'),\n",
       " Text(0.5, 0, 'Percentage of riders'),\n",
       " Text(0.5, 1.0, 'Difference in trip distance between Customer and Subscriber riders')]"
      ]
     },
     "execution_count": 47,
     "metadata": {},
     "output_type": "execute_result"
    },
    {
     "data": {
      "image/png": "[encoded data removed]",
      "text/plain": [
       "<Figure size 720x432 with 1 Axes>"
      ]
     },
     "metadata": {},
     "output_type": "display_data"
    }
   ],
   "source": [
    "crosstab_between_distance_and_usertype = pd.crosstab(\n",
    "    index=data.distance_bins, columns=data.user_type).apply(\n",
    "    lambda x: round((x/x.sum()),2) * 100, axis=1)\n",
    "crosstab_between_distance_and_usertype.plot(kind='barh', stacked=True, width=0.5, fontsize=13).set(\n",
    "    title='Difference in trip distance between Customer and Subscriber riders',\n",
    "    ylabel='Distance (miles)', xlabel='Percentage of riders')"
   ]
  },
  {
   "cell_type": "markdown",
   "metadata": {},
   "source": [
    "#### It is pretty clear that as the distance increases, there's an increase in the number of rides made by Customer riders"
   ]
  },
  {
   "cell_type": "markdown",
   "metadata": {},
   "source": [
    "# SUMMARY"
   ]
  },
  {
   "cell_type": "markdown",
   "metadata": {},
   "source": [
    "#### In conclusion, about 75% of rides from January 2019 to June 2019 are made by subscriber riders. However, subscribers’ trips tend to be shorter than that of customers (10 minutes vs 20 minutes). Moreover, trip duration for subscribers actually seem to be similar throughout the week, whereas for customers, it tends to be longer during weekends.\n"
   ]
  },
  {
   "cell_type": "markdown",
   "metadata": {},
   "source": [
    "#### In terms of bike stations, we’ve seen that the most popular ones are around MIT, Cambridge. However, these stations are not necessarily the ones with the most number of docks. Also, the analysis on the number of bikes unlocked from/returned to a station indicates that some stations might experience the issue of unavailability of bikes or vacant docks.\n"
   ]
  },
  {
   "cell_type": "markdown",
   "metadata": {},
   "source": [
    "#### Lastly, regarding distance traveled, about 3.6% of all the trips (27000 out of 756000) are round trips (i.e. trips in which riders unlock and return a bike at a same station). And again, we see another difference in distance between the two categories of riders. Particularly, as the distance increases, there's also an increase in the number of rides made by customers.\n"
   ]
  }
 ],
 "metadata": {
  "kernelspec": {
   "display_name": "Python 3",
   "language": "python",
   "name": "python3"
  },
  "language_info": {
   "codemirror_mode": {
    "name": "ipython",
    "version": 3
   },
   "file_extension": ".py",
   "mimetype": "text/x-python",
   "name": "python",
   "nbconvert_exporter": "python",
   "pygments_lexer": "ipython3",
   "version": "3.7.3"
  }
 },
 "nbformat": 4,
 "nbformat_minor": 2
}
