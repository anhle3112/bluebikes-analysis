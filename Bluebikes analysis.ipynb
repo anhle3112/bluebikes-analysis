{
 "cells": [
  {
   "cell_type": "markdown",
   "metadata": {},
   "source": [
    "### This notebook presents initial exploration (mainly descriptive analytics) on the Blue Bikes trip data from January 2019 to June 2019.\n",
    "### There are about 774K observations with variables such as Trip Duration, Start Time, Stop Time, Start Station ID/Name/Lat/Long, End Station ID/Name/Lat/Long, Bike ID, User Type, Birth Year and Gender"
   ]
  },
  {
   "cell_type": "code",
   "execution_count": 11,
   "metadata": {},
   "outputs": [],
   "source": [
    "import pandas as pd\n",
    "import pandas_datareader as pdr\n",
    "import numpy as np\n",
    "import matplotlib.pyplot as plt\n",
    "import seaborn as sns\n",
    "import os\n",
    "%matplotlib inline\n",
    "plt.rc('figure', figsize=(10,6))\n",
    "sns.set(context='notebook', style='darkgrid', palette='deep', font='sans-serif', font_scale=1,\n",
    "        color_codes=True, rc={'figure.figsize':(10,6)})"
   ]
  },
  {
   "cell_type": "code",
   "execution_count": 2,
   "metadata": {},
   "outputs": [
    {
     "data": {
      "text/plain": [
       "'/Users/macbook/Documents/Academic/Courses/Summer 19/CS602 Python/Homework assignment/HW5/'"
      ]
     },
     "execution_count": 2,
     "metadata": {},
     "output_type": "execute_result"
    }
   ],
   "source": [
    "path = os.getcwd() + '/'\n",
    "path"
   ]
  },
  {
   "cell_type": "code",
   "execution_count": 3,
   "metadata": {},
   "outputs": [],
   "source": [
    "# Read each month of data\n",
    "bluebikes_201901 = pd.read_csv(path + 'bluebikes_201901.csv', sep=',', engine='python')\n",
    "bluebikes_201902 = pd.read_csv(path + 'bluebikes_201902.csv', sep=',', engine='python')\n",
    "bluebikes_201903 = pd.read_csv(path + 'bluebikes_201903.csv', sep=',', engine='python')\n",
    "bluebikes_201904 = pd.read_csv(path + 'bluebikes_201904.csv', sep=',', engine='python')\n",
    "bluebikes_201905 = pd.read_csv(path + 'bluebikes_201902.csv', sep=',', engine='python')\n",
    "bluebikes_201906 = pd.read_csv(path + 'bluebikes_201906.csv', sep=',', engine='python')"
   ]
  },
  {
   "cell_type": "code",
   "execution_count": 4,
   "metadata": {},
   "outputs": [
    {
     "name": "stdout",
     "output_type": "stream",
     "text": [
      "<class 'pandas.core.frame.DataFrame'>\n",
      "Int64Index: 773889 entries, 0 to 274021\n",
      "Data columns (total 15 columns):\n",
      "tripduration               773889 non-null int64\n",
      "starttime                  773889 non-null object\n",
      "stoptime                   773889 non-null object\n",
      "start station id           773889 non-null int64\n",
      "start station name         773889 non-null object\n",
      "start station latitude     773889 non-null float64\n",
      "start station longitude    773889 non-null float64\n",
      "end station id             773889 non-null int64\n",
      "end station name           773889 non-null object\n",
      "end station latitude       773889 non-null float64\n",
      "end station longitude      773889 non-null float64\n",
      "bikeid                     773889 non-null int64\n",
      "usertype                   773889 non-null object\n",
      "birth year                 773889 non-null int64\n",
      "gender                     773889 non-null int64\n",
      "dtypes: float64(4), int64(6), object(5)\n",
      "memory usage: 94.5+ MB\n"
     ]
    }
   ],
   "source": [
    "# Concatenate all months of data\n",
    "bluebikes_all_months = pd.concat([bluebikes_201901,bluebikes_201902,bluebikes_201903,\n",
    "           bluebikes_201904,bluebikes_201905,bluebikes_201906])\n",
    "bluebikes_all_months.info()"
   ]
  },
  {
   "cell_type": "markdown",
   "metadata": {},
   "source": [
    "#### We also need to merge the above data with the data set that has info about each station in order to get the number of dock and municipality of each bike station"
   ]
  },
  {
   "cell_type": "code",
   "execution_count": 5,
   "metadata": {},
   "outputs": [
    {
     "name": "stdout",
     "output_type": "stream",
     "text": [
      "<class 'pandas.core.frame.DataFrame'>\n",
      "RangeIndex: 281 entries, 0 to 280\n",
      "Data columns (total 7 columns):\n",
      "Station ID         281 non-null object\n",
      "Station            281 non-null object\n",
      "Latitude           281 non-null float64\n",
      "Longitude          281 non-null float64\n",
      "Municipality       281 non-null object\n",
      "publiclyExposed    281 non-null int64\n",
      "# of Docks         281 non-null int64\n",
      "dtypes: float64(2), int64(2), object(3)\n",
      "memory usage: 15.4+ KB\n"
     ]
    }
   ],
   "source": [
    "stations = pd.read_csv(path + 'Hubway_Stations_as_of_July_2017.csv', sep=',', engine='python')\n",
    "stations.info()"
   ]
  },
  {
   "cell_type": "code",
   "execution_count": 33,
   "metadata": {},
   "outputs": [
    {
     "name": "stdout",
     "output_type": "stream",
     "text": [
      "<class 'pandas.core.frame.DataFrame'>\n",
      "Int64Index: 756042 entries, 0 to 756041\n",
      "Data columns (total 22 columns):\n",
      "tripduration               756042 non-null int64\n",
      "starttime                  756042 non-null object\n",
      "stoptime                   756042 non-null object\n",
      "start station id           756042 non-null int64\n",
      "start station name         756042 non-null object\n",
      "start station latitude     756042 non-null float64\n",
      "start station longitude    756042 non-null float64\n",
      "end station id             756042 non-null int64\n",
      "end station name           756042 non-null object\n",
      "end station latitude       756042 non-null float64\n",
      "end station longitude      756042 non-null float64\n",
      "bikeid                     756042 non-null int64\n",
      "usertype                   756042 non-null object\n",
      "birth year                 756042 non-null int64\n",
      "gender                     756042 non-null int64\n",
      "Station ID                 756042 non-null object\n",
      "Station                    756042 non-null object\n",
      "Latitude                   756042 non-null float64\n",
      "Longitude                  756042 non-null float64\n",
      "Municipality               756042 non-null object\n",
      "publiclyExposed            756042 non-null int64\n",
      "# of Docks                 756042 non-null int64\n",
      "dtypes: float64(6), int64(8), object(8)\n",
      "memory usage: 132.7+ MB\n"
     ]
    }
   ],
   "source": [
    "data = pd.merge(bluebikes_all_months, stations, how='inner', left_on='start station name', right_on='Station')\n",
    "data.info()"
   ]
  },
  {
   "cell_type": "code",
   "execution_count": 7,
   "metadata": {},
   "outputs": [],
   "source": [
    "# As there are repeated columns, we're going to delete these\n",
    "dropped_columns = ['Station ID', 'Latitude', 'Longitude']\n",
    "data = data.drop(dropped_columns, axis=1)"
   ]
  },
  {
   "cell_type": "code",
   "execution_count": 8,
   "metadata": {},
   "outputs": [],
   "source": [
    "# Rename each column for naming consistency\n",
    "data.rename(columns={'tripduration':'trip_duration', 'starttime':'start_time','stoptime':'stop_time',\n",
    "                               'start station id':'start_station_id','start station name':'start_station_name',\n",
    "                               'start station latitude':'start_station_lat','start station longitude':'start_station_lon',\n",
    "                              'end station id':'end_station_id','end station name':'end_station_name',\n",
    "                              'end station latitude':'end_station_lat','end station longitude':'end_station_lon',\n",
    "                              'bikeid':'bike_id','usertype':'user_type','birth year':'birth_year',\n",
    "                     'Station':'station', '# of Docks':'number_of_docks','Municipality':'municipality',\n",
    "                    'publiclyExposed': 'publicly_exposed'},\n",
    "           inplace=True)"
   ]
  },
  {
   "cell_type": "markdown",
   "metadata": {},
   "source": [
    "### Number of stations"
   ]
  },
  {
   "cell_type": "code",
   "execution_count": 9,
   "metadata": {},
   "outputs": [
    {
     "data": {
      "text/plain": [
       "265"
      ]
     },
     "execution_count": 9,
     "metadata": {},
     "output_type": "execute_result"
    }
   ],
   "source": [
    "len(data.station.unique())"
   ]
  },
  {
   "cell_type": "markdown",
   "metadata": {},
   "source": [
    "### Number of rides made by each type of riders: Customer vs Subscriber"
   ]
  },
  {
   "cell_type": "code",
   "execution_count": 12,
   "metadata": {},
   "outputs": [
    {
     "data": {
      "text/plain": [
       "Subscriber    619176\n",
       "Customer      136866\n",
       "Name: user_type, dtype: int64"
      ]
     },
     "execution_count": 12,
     "metadata": {},
     "output_type": "execute_result"
    },
    {
     "data": {
      "image/png": "[encoded data removed]",
      "text/plain": [
       "<Figure size 720x432 with 1 Axes>"
      ]
     },
     "metadata": {},
     "output_type": "display_data"
    }
   ],
   "source": [
    "data['user_type'].value_counts().plot.pie()\n",
    "data['user_type'].value_counts()"
   ]
  },
  {
   "cell_type": "markdown",
   "metadata": {},
   "source": [
    "### Let's explore the duration of a trip"
   ]
  },
  {
   "cell_type": "markdown",
   "metadata": {},
   "source": [
    "#### As the trip duration is currently in seconds, we'd better convert it to minutes"
   ]
  },
  {
   "cell_type": "code",
   "execution_count": 13,
   "metadata": {},
   "outputs": [],
   "source": [
    "data['trip_duration_min'] = (data['trip_duration'] / 60).astype(int)"
   ]
  },
  {
   "cell_type": "markdown",
   "metadata": {},
   "source": [
    "#### Descriptive stats on trip duration"
   ]
  },
  {
   "cell_type": "code",
   "execution_count": 14,
   "metadata": {},
   "outputs": [
    {
     "data": {
      "text/plain": [
       "count    756042.000000\n",
       "mean         24.479250\n",
       "std         359.787896\n",
       "min           1.000000\n",
       "25%           6.000000\n",
       "50%          11.000000\n",
       "75%          19.000000\n",
       "max       47212.000000\n",
       "Name: trip_duration_min, dtype: float64"
      ]
     },
     "execution_count": 14,
     "metadata": {},
     "output_type": "execute_result"
    },
    {
     "data": {
      "image/png": "[encoded data removed]",
      "text/plain": [
       "<Figure size 720x432 with 1 Axes>"
      ]
     },
     "metadata": {},
     "output_type": "display_data"
    }
   ],
   "source": [
    "green_diamond = dict(markerfacecolor='g', marker='D')\n",
    "fig,ax = plt.subplots()\n",
    "ax.boxplot(data['trip_duration_min'], flierprops=green_diamond)\n",
    "ax.set(title='Boxplot of Trip Duration', xticklabels='', ylabel='Trip duration (mins)')\n",
    "data.trip_duration_min.describe()"
   ]
  },
  {
   "cell_type": "markdown",
   "metadata": {},
   "source": [
    "#### We can see that there are many outliers in the dataset, making it difficult to see the distribution. Let's find out which group of riders has these outliers"
   ]
  },
  {
   "cell_type": "markdown",
   "metadata": {},
   "source": [
    "### Trip duration with regards to User type"
   ]
  },
  {
   "cell_type": "code",
   "execution_count": 15,
   "metadata": {},
   "outputs": [
    {
     "data": {
      "text/plain": [
       "[Text(0, 0.5, 'Trip duration (mins)'),\n",
       " Text(0.5, 0, 'User type'),\n",
       " Text(0.5, 1.0, 'Boxplot of Trip Duration with regards to Customer/Subscriber')]"
      ]
     },
     "execution_count": 15,
     "metadata": {},
     "output_type": "execute_result"
    },
    {
     "data": {
      "image/png": "[encoded data removed]",
      "text/plain": [
       "<Figure size 720x432 with 1 Axes>"
      ]
     },
     "metadata": {},
     "output_type": "display_data"
    }
   ],
   "source": [
    "sns.boxplot(data=data, x='user_type', y='trip_duration_min', width=0.3, color='g').set(\n",
    "title='Boxplot of Trip Duration with regards to Customer/Subscriber',\n",
    "xlabel='User type', ylabel='Trip duration (mins)')"
   ]
  },
  {
   "cell_type": "markdown",
   "metadata": {},
   "source": [
    "#### There are actually outliers in both group of riders, so we may want to filter out outliers with regards to each type of rider. To filter those outliers, however, we need to choose a threshold. From the info on Blue Bikes's website, a trip for Customers can be either Single Ride (30mins) or Adventure Pass (120 mins), whereas for Annual/Monthly Subscribers it is 45 mins. So we can pick 120 mins as the threshold for Customers, and 45 mins for Subscribers\n",
    "##### Blue Bikes website: https://www.bluebikes.com/pricing"
   ]
  },
  {
   "cell_type": "code",
   "execution_count": 16,
   "metadata": {},
   "outputs": [],
   "source": [
    "# Filter outliers with regards to each type of riders\n",
    "data_customer = data[\n",
    "    (data['user_type'] == 'Customer') &\n",
    "    (data['trip_duration_min'] <= 120)\n",
    "]\n",
    "data_subscriber = data[\n",
    "    (data['user_type'] == 'Subscriber') &\n",
    "    (data['trip_duration_min'] <= 45)\n",
    "]\n",
    "data_no_outliers = pd.concat([data_customer,data_subscriber])"
   ]
  },
  {
   "cell_type": "markdown",
   "metadata": {},
   "source": [
    "#### Let's see the boxplot distribution for Trip duration again"
   ]
  },
  {
   "cell_type": "code",
   "execution_count": 17,
   "metadata": {},
   "outputs": [
    {
     "data": {
      "text/plain": [
       "[Text(0, 0.5, 'Trip duration (mins)'),\n",
       " Text(0.5, 0, 'User type'),\n",
       " Text(0.5, 1.0, 'Boxplot of Trip Duration with regards to Customer/Subscriber (Outliers filtered out)')]"
      ]
     },
     "execution_count": 17,
     "metadata": {},
     "output_type": "execute_result"
    },
    {
     "data": {
      "image/png": "[encoded data removed]",
      "text/plain": [
       "<Figure size 720x432 with 1 Axes>"
      ]
     },
     "metadata": {},
     "output_type": "display_data"
    }
   ],
   "source": [
    "sns.boxplot(data=data_no_outliers, x='user_type', y='trip_duration_min',\n",
    "           width=0.3, fliersize=4).set(\n",
    "title='Boxplot of Trip Duration with regards to Customer/Subscriber (Outliers filtered out)',\n",
    "xlabel='User type', ylabel='Trip duration (mins)')"
   ]
  },
  {
   "cell_type": "markdown",
   "metadata": {},
   "source": [
    "#### Now it's easier to see that the trip duration is different for each group of riders. The median tells us that the duration for Customer riders are about 20 mins whereas it's 10 mins for Subscriber riders. Also, looking at the length of the box, we can see that for Customer riders, the length of a trip is much more varied than that for Subscriber"
   ]
  },
  {
   "cell_type": "markdown",
   "metadata": {},
   "source": [
    "#### How about the age of a rider? Is trip duration also different with regards to this variable? "
   ]
  },
  {
   "cell_type": "markdown",
   "metadata": {},
   "source": [
    "### Trip duration with regards to the Age of riders"
   ]
  },
  {
   "cell_type": "markdown",
   "metadata": {},
   "source": [
    "#### Let's first see the descriptive stats on the variable Age "
   ]
  },
  {
   "cell_type": "code",
   "execution_count": 18,
   "metadata": {},
   "outputs": [
    {
     "data": {
      "text/plain": [
       "count    745862.000000\n",
       "mean         35.083149\n",
       "std          11.538941\n",
       "min          16.000000\n",
       "25%          26.000000\n",
       "50%          31.000000\n",
       "75%          43.000000\n",
       "max         133.000000\n",
       "Name: age, dtype: float64"
      ]
     },
     "execution_count": 18,
     "metadata": {},
     "output_type": "execute_result"
    }
   ],
   "source": [
    "# As we don't have the varible Age yet, we need to calculate that\n",
    "data_no_outliers['age'] = 2019 - data_no_outliers['birth_year'].astype(int)\n",
    "data_no_outliers.age.describe()"
   ]
  },
  {
   "cell_type": "markdown",
   "metadata": {},
   "source": [
    "#### It looks so absurd that some riders are still able to ride a bike even though they're around 100 years old! (max=133) The reason could be that this field is self-reported by the rider so it will not make much sense to do detailed analysis on this variable"
   ]
  },
  {
   "cell_type": "markdown",
   "metadata": {},
   "source": [
    "### We can probably look at Trip duration with regards to Weekday"
   ]
  },
  {
   "cell_type": "markdown",
   "metadata": {},
   "source": [
    "#### There's no weekday variable in the data set so we need to figure out how to get this variable"
   ]
  },
  {
   "cell_type": "code",
   "execution_count": 19,
   "metadata": {},
   "outputs": [
    {
     "data": {
      "text/html": [
       "<div>\n",
       "<style scoped>\n",
       "    .dataframe tbody tr th:only-of-type {\n",
       "        vertical-align: middle;\n",
       "    }\n",
       "\n",
       "    .dataframe tbody tr th {\n",
       "        vertical-align: top;\n",
       "    }\n",
       "\n",
       "    .dataframe thead th {\n",
       "        text-align: right;\n",
       "    }\n",
       "</style>\n",
       "<table border=\"1\" class=\"dataframe\">\n",
       "  <thead>\n",
       "    <tr style=\"text-align: right;\">\n",
       "      <th></th>\n",
       "      <th>trip_duration</th>\n",
       "      <th>start_time</th>\n",
       "      <th>stop_time</th>\n",
       "      <th>start_station_id</th>\n",
       "      <th>start_station_name</th>\n",
       "      <th>start_station_lat</th>\n",
       "      <th>start_station_lon</th>\n",
       "      <th>end_station_id</th>\n",
       "      <th>end_station_name</th>\n",
       "      <th>end_station_lat</th>\n",
       "      <th>...</th>\n",
       "      <th>birth_year</th>\n",
       "      <th>gender</th>\n",
       "      <th>station</th>\n",
       "      <th>municipality</th>\n",
       "      <th>publicly_exposed</th>\n",
       "      <th>number_of_docks</th>\n",
       "      <th>trip_duration_min</th>\n",
       "      <th>age</th>\n",
       "      <th>start_date</th>\n",
       "      <th>weekday</th>\n",
       "    </tr>\n",
       "  </thead>\n",
       "  <tbody>\n",
       "    <tr>\n",
       "      <th>19</th>\n",
       "      <td>846</td>\n",
       "      <td>2019-01-01 13:51:42.6750</td>\n",
       "      <td>2019-01-01 14:05:49.1350</td>\n",
       "      <td>80</td>\n",
       "      <td>MIT Stata Center at Vassar St / Main St</td>\n",
       "      <td>42.362131</td>\n",
       "      <td>-71.091156</td>\n",
       "      <td>361</td>\n",
       "      <td>Deerfield St at Commonwealth Ave</td>\n",
       "      <td>42.349244</td>\n",
       "      <td>...</td>\n",
       "      <td>1969</td>\n",
       "      <td>0</td>\n",
       "      <td>MIT Stata Center at Vassar St / Main St</td>\n",
       "      <td>Cambridge</td>\n",
       "      <td>1</td>\n",
       "      <td>27</td>\n",
       "      <td>14</td>\n",
       "      <td>50</td>\n",
       "      <td>2019-01-01</td>\n",
       "      <td>Tuesday</td>\n",
       "    </tr>\n",
       "    <tr>\n",
       "      <th>20</th>\n",
       "      <td>729</td>\n",
       "      <td>2019-01-01 13:53:28.5330</td>\n",
       "      <td>2019-01-01 14:05:38.2480</td>\n",
       "      <td>80</td>\n",
       "      <td>MIT Stata Center at Vassar St / Main St</td>\n",
       "      <td>42.362131</td>\n",
       "      <td>-71.091156</td>\n",
       "      <td>361</td>\n",
       "      <td>Deerfield St at Commonwealth Ave</td>\n",
       "      <td>42.349244</td>\n",
       "      <td>...</td>\n",
       "      <td>1969</td>\n",
       "      <td>0</td>\n",
       "      <td>MIT Stata Center at Vassar St / Main St</td>\n",
       "      <td>Cambridge</td>\n",
       "      <td>1</td>\n",
       "      <td>27</td>\n",
       "      <td>12</td>\n",
       "      <td>50</td>\n",
       "      <td>2019-01-01</td>\n",
       "      <td>Tuesday</td>\n",
       "    </tr>\n",
       "    <tr>\n",
       "      <th>54</th>\n",
       "      <td>870</td>\n",
       "      <td>2019-01-02 15:24:26.6100</td>\n",
       "      <td>2019-01-02 15:38:56.8610</td>\n",
       "      <td>80</td>\n",
       "      <td>MIT Stata Center at Vassar St / Main St</td>\n",
       "      <td>42.362131</td>\n",
       "      <td>-71.091156</td>\n",
       "      <td>190</td>\n",
       "      <td>Nashua Street at Red Auerbach Way</td>\n",
       "      <td>42.365673</td>\n",
       "      <td>...</td>\n",
       "      <td>1969</td>\n",
       "      <td>0</td>\n",
       "      <td>MIT Stata Center at Vassar St / Main St</td>\n",
       "      <td>Cambridge</td>\n",
       "      <td>1</td>\n",
       "      <td>27</td>\n",
       "      <td>14</td>\n",
       "      <td>50</td>\n",
       "      <td>2019-01-02</td>\n",
       "      <td>Wednesday</td>\n",
       "    </tr>\n",
       "    <tr>\n",
       "      <th>186</th>\n",
       "      <td>374</td>\n",
       "      <td>2019-01-03 21:41:36.2490</td>\n",
       "      <td>2019-01-03 21:47:50.8370</td>\n",
       "      <td>80</td>\n",
       "      <td>MIT Stata Center at Vassar St / Main St</td>\n",
       "      <td>42.362131</td>\n",
       "      <td>-71.091156</td>\n",
       "      <td>179</td>\n",
       "      <td>MIT Vassar St</td>\n",
       "      <td>42.355601</td>\n",
       "      <td>...</td>\n",
       "      <td>1969</td>\n",
       "      <td>0</td>\n",
       "      <td>MIT Stata Center at Vassar St / Main St</td>\n",
       "      <td>Cambridge</td>\n",
       "      <td>1</td>\n",
       "      <td>27</td>\n",
       "      <td>6</td>\n",
       "      <td>50</td>\n",
       "      <td>2019-01-03</td>\n",
       "      <td>Thursday</td>\n",
       "    </tr>\n",
       "    <tr>\n",
       "      <th>240</th>\n",
       "      <td>749</td>\n",
       "      <td>2019-01-04 17:22:55.2710</td>\n",
       "      <td>2019-01-04 17:35:24.6660</td>\n",
       "      <td>80</td>\n",
       "      <td>MIT Stata Center at Vassar St / Main St</td>\n",
       "      <td>42.362131</td>\n",
       "      <td>-71.091156</td>\n",
       "      <td>74</td>\n",
       "      <td>Harvard Square at Mass Ave/ Dunster</td>\n",
       "      <td>42.373268</td>\n",
       "      <td>...</td>\n",
       "      <td>1984</td>\n",
       "      <td>1</td>\n",
       "      <td>MIT Stata Center at Vassar St / Main St</td>\n",
       "      <td>Cambridge</td>\n",
       "      <td>1</td>\n",
       "      <td>27</td>\n",
       "      <td>12</td>\n",
       "      <td>35</td>\n",
       "      <td>2019-01-04</td>\n",
       "      <td>Friday</td>\n",
       "    </tr>\n",
       "  </tbody>\n",
       "</table>\n",
       "<p>5 rows × 23 columns</p>\n",
       "</div>"
      ],
      "text/plain": [
       "     trip_duration                start_time                 stop_time  \\\n",
       "19             846  2019-01-01 13:51:42.6750  2019-01-01 14:05:49.1350   \n",
       "20             729  2019-01-01 13:53:28.5330  2019-01-01 14:05:38.2480   \n",
       "54             870  2019-01-02 15:24:26.6100  2019-01-02 15:38:56.8610   \n",
       "186            374  2019-01-03 21:41:36.2490  2019-01-03 21:47:50.8370   \n",
       "240            749  2019-01-04 17:22:55.2710  2019-01-04 17:35:24.6660   \n",
       "\n",
       "     start_station_id                       start_station_name  \\\n",
       "19                 80  MIT Stata Center at Vassar St / Main St   \n",
       "20                 80  MIT Stata Center at Vassar St / Main St   \n",
       "54                 80  MIT Stata Center at Vassar St / Main St   \n",
       "186                80  MIT Stata Center at Vassar St / Main St   \n",
       "240                80  MIT Stata Center at Vassar St / Main St   \n",
       "\n",
       "     start_station_lat  start_station_lon  end_station_id  \\\n",
       "19           42.362131         -71.091156             361   \n",
       "20           42.362131         -71.091156             361   \n",
       "54           42.362131         -71.091156             190   \n",
       "186          42.362131         -71.091156             179   \n",
       "240          42.362131         -71.091156              74   \n",
       "\n",
       "                        end_station_name  end_station_lat  ...  birth_year  \\\n",
       "19      Deerfield St at Commonwealth Ave        42.349244  ...        1969   \n",
       "20      Deerfield St at Commonwealth Ave        42.349244  ...        1969   \n",
       "54     Nashua Street at Red Auerbach Way        42.365673  ...        1969   \n",
       "186                        MIT Vassar St        42.355601  ...        1969   \n",
       "240  Harvard Square at Mass Ave/ Dunster        42.373268  ...        1984   \n",
       "\n",
       "     gender                                  station  municipality  \\\n",
       "19        0  MIT Stata Center at Vassar St / Main St     Cambridge   \n",
       "20        0  MIT Stata Center at Vassar St / Main St     Cambridge   \n",
       "54        0  MIT Stata Center at Vassar St / Main St     Cambridge   \n",
       "186       0  MIT Stata Center at Vassar St / Main St     Cambridge   \n",
       "240       1  MIT Stata Center at Vassar St / Main St     Cambridge   \n",
       "\n",
       "     publicly_exposed number_of_docks trip_duration_min  age  start_date  \\\n",
       "19                  1              27                14   50  2019-01-01   \n",
       "20                  1              27                12   50  2019-01-01   \n",
       "54                  1              27                14   50  2019-01-02   \n",
       "186                 1              27                 6   50  2019-01-03   \n",
       "240                 1              27                12   35  2019-01-04   \n",
       "\n",
       "       weekday  \n",
       "19     Tuesday  \n",
       "20     Tuesday  \n",
       "54   Wednesday  \n",
       "186   Thursday  \n",
       "240     Friday  \n",
       "\n",
       "[5 rows x 23 columns]"
      ]
     },
     "execution_count": 19,
     "metadata": {},
     "output_type": "execute_result"
    }
   ],
   "source": [
    "data_no_outliers['start_date'] = pd.to_datetime(data_no_outliers['start_time'].apply(lambda x : x[:10]))\n",
    "data_no_outliers['weekday'] = data_no_outliers['start_date'].dt.day_name()\n",
    "data_no_outliers.head()"
   ]
  },
  {
   "cell_type": "markdown",
   "metadata": {},
   "source": [
    "#### Now we can see how Trip duration is different with regards to Weekday"
   ]
  },
  {
   "cell_type": "code",
   "execution_count": 20,
   "metadata": {},
   "outputs": [
    {
     "data": {
      "text/plain": [
       "[Text(0, 0.5, 'Trip duration (mins)'),\n",
       " Text(0.5, 0, 'Weekday'),\n",
       " Text(0.5, 1.0, 'Boxplot of Trip duration with regards to Weekday')]"
      ]
     },
     "execution_count": 20,
     "metadata": {},
     "output_type": "execute_result"
    },
    {
     "data": {
      "image/png": "[encoded data removed]",
      "text/plain": [
       "<Figure size 720x432 with 1 Axes>"
      ]
     },
     "metadata": {},
     "output_type": "display_data"
    }
   ],
   "source": [
    "sns.boxplot(data=data_no_outliers, x='weekday', y='trip_duration_min', saturation=0.7, fliersize=3,\n",
    "           order=['Monday','Tuesday','Wednesday','Thursday','Friday','Saturday','Sunday']).set(\n",
    "           title='Boxplot of Trip duration with regards to Weekday',\n",
    "           ylabel='Trip duration (mins)', xlabel='Weekday')"
   ]
  },
  {
   "cell_type": "markdown",
   "metadata": {},
   "source": [
    "#### The distribution is pretty as much as we expect, with riders taking a little longer trip during weekends. However, is this pattern similar for each group of riders? "
   ]
  },
  {
   "cell_type": "code",
   "execution_count": 21,
   "metadata": {},
   "outputs": [
    {
     "data": {
      "text/plain": [
       "[Text(0, 0.5, 'Trip duration (mins)'),\n",
       " Text(0.5, 0, 'Weekday'),\n",
       " Text(0.5, 1.0, 'Boxplot of Trip duration with regards to Weekday')]"
      ]
     },
     "execution_count": 21,
     "metadata": {},
     "output_type": "execute_result"
    },
    {
     "data": {
      "image/png": "[encoded data removed]",
      "text/plain": [
       "<Figure size 720x432 with 1 Axes>"
      ]
     },
     "metadata": {},
     "output_type": "display_data"
    }
   ],
   "source": [
    "sns.boxplot(data=data_no_outliers, x='weekday', y='trip_duration_min', hue='user_type',\n",
    "            saturation=0.7, fliersize=3,\n",
    "           order=['Monday','Tuesday','Wednesday','Thursday','Friday','Saturday','Sunday']).set(\n",
    "           title='Boxplot of Trip duration with regards to Weekday',\n",
    "           ylabel='Trip duration (mins)', xlabel='Weekday')"
   ]
  },
  {
   "cell_type": "markdown",
   "metadata": {},
   "source": [
    "#### There's definitely a little difference in the behaviors between Customers and Subscribers. Trip duration for Subscribers actually seem to stay the same throughout the week, whereas for Customers, trip duration tends to be longer during weekends "
   ]
  },
  {
   "cell_type": "markdown",
   "metadata": {},
   "source": [
    "### Station Popularity"
   ]
  },
  {
   "cell_type": "markdown",
   "metadata": {},
   "source": [
    "#### Let's see which stations are most popular as a start station (i.e. stations where most riders unlock a bike)"
   ]
  },
  {
   "cell_type": "markdown",
   "metadata": {},
   "source": [
    "##### (Note: As this part of analysis is independent of the Trip duration variable, we're going to use the original dataset instead of the filtered one)"
   ]
  },
  {
   "cell_type": "code",
   "execution_count": 22,
   "metadata": {},
   "outputs": [
    {
     "data": {
      "text/plain": [
       "start_station_name\n",
       "MIT at Mass Ave / Amherst St                        21181\n",
       "MIT Stata Center at Vassar St / Main St             18371\n",
       "Central Square at Mass Ave / Essex St               16908\n",
       "South Station - 700 Atlantic Ave                    15013\n",
       "Kendall T                                           13466\n",
       "MIT Pacific St at Purrington St                     12868\n",
       "Nashua Street at Red Auerbach Way                   11177\n",
       "Harvard Square at Mass Ave/ Dunster                 11052\n",
       "One Kendall Square at Hampshire St / Portland St    10544\n",
       "MIT Vassar St                                        9972\n",
       "dtype: int64"
      ]
     },
     "execution_count": 22,
     "metadata": {},
     "output_type": "execute_result"
    }
   ],
   "source": [
    "data.groupby(by='start_station_name').size().sort_values(ascending=False).head(10)"
   ]
  },
  {
   "cell_type": "markdown",
   "metadata": {},
   "source": [
    "#### Looks like the stations where most people depart are in the area of Cambridge. How about the stations which are the most frequented as an end station?"
   ]
  },
  {
   "cell_type": "code",
   "execution_count": 23,
   "metadata": {},
   "outputs": [
    {
     "data": {
      "text/plain": [
       "end_station_name\n",
       "MIT Stata Center at Vassar St / Main St                        19932\n",
       "MIT at Mass Ave / Amherst St                                   18849\n",
       "Central Square at Mass Ave / Essex St                          16858\n",
       "Nashua Street at Red Auerbach Way                              16561\n",
       "South Station - 700 Atlantic Ave                               14990\n",
       "MIT Pacific St at Purrington St                                11454\n",
       "Kendall T                                                      11328\n",
       "Harvard Square at Mass Ave/ Dunster                            11055\n",
       "MIT Vassar St                                                   9373\n",
       "Christian Science Plaza - Massachusetts Ave at Westland Ave     9260\n",
       "dtype: int64"
      ]
     },
     "execution_count": 23,
     "metadata": {},
     "output_type": "execute_result"
    }
   ],
   "source": [
    "data.groupby(by='end_station_name').size().sort_values(ascending=False).head(10)"
   ]
  },
  {
   "cell_type": "markdown",
   "metadata": {},
   "source": [
    "#### Cambridge is at the top again, with many stations frequented by riders as end point"
   ]
  },
  {
   "cell_type": "markdown",
   "metadata": {},
   "source": [
    "#### Let's have a look at the number of docks at all stations"
   ]
  },
  {
   "cell_type": "code",
   "execution_count": 24,
   "metadata": {},
   "outputs": [
    {
     "data": {
      "text/plain": [
       "[Text(0.5, 0, 'Number of docks'),\n",
       " Text(0.5, 1.0, 'Boxplot: Number of docks at stations')]"
      ]
     },
     "execution_count": 24,
     "metadata": {},
     "output_type": "execute_result"
    },
    {
     "data": {
      "image/png": "[encoded data removed]",
      "text/plain": [
       "<Figure size 720x432 with 1 Axes>"
      ]
     },
     "metadata": {},
     "output_type": "display_data"
    }
   ],
   "source": [
    "sns.boxplot(data['number_of_docks'], color='g', width=0.3).set(\n",
    "    title='Boxplot: Number of docks at stations',\n",
    "xlabel='Number of docks')"
   ]
  },
  {
   "cell_type": "markdown",
   "metadata": {},
   "source": [
    "#### In general, there are 10 to 25 docks at each station, however, there are stations with significantly more docks. Let's see if these stations are in Cambridge (or unexpectly any other areas)"
   ]
  },
  {
   "cell_type": "code",
   "execution_count": 25,
   "metadata": {},
   "outputs": [
    {
     "data": {
      "text/plain": [
       "station\n",
       "South Station - 700 Atlantic Ave                       47.0\n",
       "Nashua Street at Red Auerbach Way                      37.0\n",
       "TD Garden - West End Park                              35.0\n",
       "Maverick Square - Lewis Mall                           33.0\n",
       "Copley Square - Dartmouth St at Boylston St            33.0\n",
       "Packard's Corner - Commonwealth Ave at Brighton Ave    27.0\n",
       "Newbury St at Hereford St                              27.0\n",
       "MIT at Mass Ave / Amherst St                           27.0\n",
       "MIT Stata Center at Vassar St / Main St                27.0\n",
       "Name: number_of_docks, dtype: float64"
      ]
     },
     "execution_count": 25,
     "metadata": {},
     "output_type": "execute_result"
    }
   ],
   "source": [
    "groupby_stations = data.groupby('station').mean()\n",
    "above_25_docks_stations = groupby_stations[groupby_stations['number_of_docks'] > 25]\n",
    "above_25_docks_stations['number_of_docks'].sort_values(ascending=False).head(10)"
   ]
  },
  {
   "cell_type": "markdown",
   "metadata": {},
   "source": [
    "#### Interestingly, even though Cambridge is the most popular area where people start and end their rides, the stations with the most number of docks are NOT in this area. However, it completely makes sense for South Station and TD Garden to have the most number of docks"
   ]
  },
  {
   "cell_type": "markdown",
   "metadata": {},
   "source": [
    "#### Let's see how many docks there are in general at the bike stations in the Cambridge area"
   ]
  },
  {
   "cell_type": "code",
   "execution_count": 26,
   "metadata": {},
   "outputs": [
    {
     "data": {
      "text/plain": [
       "[Text(0, 0.5, 'Proportion of stations'),\n",
       " Text(0.5, 0, 'Number of docks at a station'),\n",
       " Text(0.5, 1.0, 'Stations in Cambridge & their number of docks')]"
      ]
     },
     "execution_count": 26,
     "metadata": {},
     "output_type": "execute_result"
    },
    {
     "data": {
      "image/png": "[encoded data removed]",
      "text/plain": [
       "<Figure size 720x432 with 1 Axes>"
      ]
     },
     "metadata": {},
     "output_type": "display_data"
    }
   ],
   "source": [
    "stations_in_Cambridge = data[data['municipality'] == 'Cambridge'].groupby('station').mean()\n",
    "stations_in_Cambridge['number_of_docks'].plot.hist(density=True, grid=True, color='g', alpha=0.9).set(\n",
    "    title = 'Stations in Cambridge & their number of docks',\n",
    "    xlabel='Number of docks at a station', ylabel='Proportion of stations')"
   ]
  },
  {
   "cell_type": "markdown",
   "metadata": {},
   "source": [
    "#### It seems that about half of stations in the Cambridge area each have 18-19 docks, and just a very small proportion of them have more than 25 docks"
   ]
  },
  {
   "cell_type": "markdown",
   "metadata": {},
   "source": [
    "### Distance traveled"
   ]
  },
  {
   "cell_type": "markdown",
   "metadata": {},
   "source": [
    "#### Note: We're going to calculate the distance traveled by riders using two coordinate points in the data (i.e. start station lat/long, end station lat/long). However, as in many cases, riders unlock and return a bike at a same station, so the results may contain many 0"
   ]
  },
  {
   "cell_type": "code",
   "execution_count": 27,
   "metadata": {},
   "outputs": [
    {
     "data": {
      "text/html": [
       "<div>\n",
       "<style scoped>\n",
       "    .dataframe tbody tr th:only-of-type {\n",
       "        vertical-align: middle;\n",
       "    }\n",
       "\n",
       "    .dataframe tbody tr th {\n",
       "        vertical-align: top;\n",
       "    }\n",
       "\n",
       "    .dataframe thead th {\n",
       "        text-align: right;\n",
       "    }\n",
       "</style>\n",
       "<table border=\"1\" class=\"dataframe\">\n",
       "  <thead>\n",
       "    <tr style=\"text-align: right;\">\n",
       "      <th></th>\n",
       "      <th>trip_duration</th>\n",
       "      <th>start_time</th>\n",
       "      <th>stop_time</th>\n",
       "      <th>start_station_id</th>\n",
       "      <th>start_station_name</th>\n",
       "      <th>start_station_lat</th>\n",
       "      <th>start_station_lon</th>\n",
       "      <th>end_station_id</th>\n",
       "      <th>end_station_name</th>\n",
       "      <th>end_station_lat</th>\n",
       "      <th>...</th>\n",
       "      <th>bike_id</th>\n",
       "      <th>user_type</th>\n",
       "      <th>birth_year</th>\n",
       "      <th>gender</th>\n",
       "      <th>station</th>\n",
       "      <th>municipality</th>\n",
       "      <th>publicly_exposed</th>\n",
       "      <th>number_of_docks</th>\n",
       "      <th>trip_duration_min</th>\n",
       "      <th>distance</th>\n",
       "    </tr>\n",
       "  </thead>\n",
       "  <tbody>\n",
       "    <tr>\n",
       "      <th>756037</th>\n",
       "      <td>814</td>\n",
       "      <td>2019-06-30 18:31:02.9280</td>\n",
       "      <td>2019-06-30 18:44:36.9610</td>\n",
       "      <td>50</td>\n",
       "      <td>Boylston St at Berkeley St</td>\n",
       "      <td>42.351142</td>\n",
       "      <td>-71.073292</td>\n",
       "      <td>26</td>\n",
       "      <td>Washington St at Waltham St</td>\n",
       "      <td>42.341522</td>\n",
       "      <td>...</td>\n",
       "      <td>4473</td>\n",
       "      <td>Subscriber</td>\n",
       "      <td>1961</td>\n",
       "      <td>1</td>\n",
       "      <td>Boylston St at Berkeley St</td>\n",
       "      <td>Boston</td>\n",
       "      <td>1</td>\n",
       "      <td>15</td>\n",
       "      <td>13</td>\n",
       "      <td>1.4</td>\n",
       "    </tr>\n",
       "    <tr>\n",
       "      <th>756038</th>\n",
       "      <td>1170</td>\n",
       "      <td>2019-06-30 18:48:18.7960</td>\n",
       "      <td>2019-06-30 19:07:49.6130</td>\n",
       "      <td>50</td>\n",
       "      <td>Boylston St at Berkeley St</td>\n",
       "      <td>42.351142</td>\n",
       "      <td>-71.073292</td>\n",
       "      <td>178</td>\n",
       "      <td>MIT Pacific St at Purrington St</td>\n",
       "      <td>42.359573</td>\n",
       "      <td>...</td>\n",
       "      <td>3728</td>\n",
       "      <td>Subscriber</td>\n",
       "      <td>1986</td>\n",
       "      <td>1</td>\n",
       "      <td>Boylston St at Berkeley St</td>\n",
       "      <td>Boston</td>\n",
       "      <td>1</td>\n",
       "      <td>15</td>\n",
       "      <td>19</td>\n",
       "      <td>3.1</td>\n",
       "    </tr>\n",
       "    <tr>\n",
       "      <th>756039</th>\n",
       "      <td>330</td>\n",
       "      <td>2019-06-30 19:01:52.3980</td>\n",
       "      <td>2019-06-30 19:07:22.5380</td>\n",
       "      <td>50</td>\n",
       "      <td>Boylston St at Berkeley St</td>\n",
       "      <td>42.351142</td>\n",
       "      <td>-71.073292</td>\n",
       "      <td>54</td>\n",
       "      <td>Tremont St at West St</td>\n",
       "      <td>42.354979</td>\n",
       "      <td>...</td>\n",
       "      <td>1308</td>\n",
       "      <td>Subscriber</td>\n",
       "      <td>1987</td>\n",
       "      <td>1</td>\n",
       "      <td>Boylston St at Berkeley St</td>\n",
       "      <td>Boston</td>\n",
       "      <td>1</td>\n",
       "      <td>15</td>\n",
       "      <td>5</td>\n",
       "      <td>1.1</td>\n",
       "    </tr>\n",
       "    <tr>\n",
       "      <th>756040</th>\n",
       "      <td>350</td>\n",
       "      <td>2019-06-30 19:02:07.2500</td>\n",
       "      <td>2019-06-30 19:07:57.5750</td>\n",
       "      <td>50</td>\n",
       "      <td>Boylston St at Berkeley St</td>\n",
       "      <td>42.351142</td>\n",
       "      <td>-71.073292</td>\n",
       "      <td>54</td>\n",
       "      <td>Tremont St at West St</td>\n",
       "      <td>42.354979</td>\n",
       "      <td>...</td>\n",
       "      <td>2335</td>\n",
       "      <td>Subscriber</td>\n",
       "      <td>1985</td>\n",
       "      <td>2</td>\n",
       "      <td>Boylston St at Berkeley St</td>\n",
       "      <td>Boston</td>\n",
       "      <td>1</td>\n",
       "      <td>15</td>\n",
       "      <td>5</td>\n",
       "      <td>1.1</td>\n",
       "    </tr>\n",
       "    <tr>\n",
       "      <th>756041</th>\n",
       "      <td>2020</td>\n",
       "      <td>2019-06-30 22:15:28.4970</td>\n",
       "      <td>2019-06-30 22:49:08.6430</td>\n",
       "      <td>50</td>\n",
       "      <td>Boylston St at Berkeley St</td>\n",
       "      <td>42.351142</td>\n",
       "      <td>-71.073292</td>\n",
       "      <td>90</td>\n",
       "      <td>Lechmere Station at Cambridge St / First St</td>\n",
       "      <td>42.370677</td>\n",
       "      <td>...</td>\n",
       "      <td>3990</td>\n",
       "      <td>Subscriber</td>\n",
       "      <td>1999</td>\n",
       "      <td>1</td>\n",
       "      <td>Boylston St at Berkeley St</td>\n",
       "      <td>Boston</td>\n",
       "      <td>1</td>\n",
       "      <td>15</td>\n",
       "      <td>33</td>\n",
       "      <td>2.7</td>\n",
       "    </tr>\n",
       "  </tbody>\n",
       "</table>\n",
       "<p>5 rows × 21 columns</p>\n",
       "</div>"
      ],
      "text/plain": [
       "        trip_duration                start_time                 stop_time  \\\n",
       "756037            814  2019-06-30 18:31:02.9280  2019-06-30 18:44:36.9610   \n",
       "756038           1170  2019-06-30 18:48:18.7960  2019-06-30 19:07:49.6130   \n",
       "756039            330  2019-06-30 19:01:52.3980  2019-06-30 19:07:22.5380   \n",
       "756040            350  2019-06-30 19:02:07.2500  2019-06-30 19:07:57.5750   \n",
       "756041           2020  2019-06-30 22:15:28.4970  2019-06-30 22:49:08.6430   \n",
       "\n",
       "        start_station_id          start_station_name  start_station_lat  \\\n",
       "756037                50  Boylston St at Berkeley St          42.351142   \n",
       "756038                50  Boylston St at Berkeley St          42.351142   \n",
       "756039                50  Boylston St at Berkeley St          42.351142   \n",
       "756040                50  Boylston St at Berkeley St          42.351142   \n",
       "756041                50  Boylston St at Berkeley St          42.351142   \n",
       "\n",
       "        start_station_lon  end_station_id  \\\n",
       "756037         -71.073292              26   \n",
       "756038         -71.073292             178   \n",
       "756039         -71.073292              54   \n",
       "756040         -71.073292              54   \n",
       "756041         -71.073292              90   \n",
       "\n",
       "                                   end_station_name  end_station_lat  ...  \\\n",
       "756037                  Washington St at Waltham St        42.341522  ...   \n",
       "756038              MIT Pacific St at Purrington St        42.359573  ...   \n",
       "756039                        Tremont St at West St        42.354979  ...   \n",
       "756040                        Tremont St at West St        42.354979  ...   \n",
       "756041  Lechmere Station at Cambridge St / First St        42.370677  ...   \n",
       "\n",
       "        bike_id   user_type birth_year  gender                     station  \\\n",
       "756037     4473  Subscriber       1961       1  Boylston St at Berkeley St   \n",
       "756038     3728  Subscriber       1986       1  Boylston St at Berkeley St   \n",
       "756039     1308  Subscriber       1987       1  Boylston St at Berkeley St   \n",
       "756040     2335  Subscriber       1985       2  Boylston St at Berkeley St   \n",
       "756041     3990  Subscriber       1999       1  Boylston St at Berkeley St   \n",
       "\n",
       "       municipality publicly_exposed  number_of_docks  trip_duration_min  \\\n",
       "756037       Boston                1               15                 13   \n",
       "756038       Boston                1               15                 19   \n",
       "756039       Boston                1               15                  5   \n",
       "756040       Boston                1               15                  5   \n",
       "756041       Boston                1               15                 33   \n",
       "\n",
       "        distance  \n",
       "756037       1.4  \n",
       "756038       3.1  \n",
       "756039       1.1  \n",
       "756040       1.1  \n",
       "756041       2.7  \n",
       "\n",
       "[5 rows x 21 columns]"
      ]
     },
     "execution_count": 27,
     "metadata": {},
     "output_type": "execute_result"
    }
   ],
   "source": [
    "import math\n",
    "def distance(lat1, lon1, lat2, lon2):\n",
    "    radius = 7917.5 # mile\n",
    "    dlat = math.radians(lat2-lat1)\n",
    "    dlon = math.radians(lon2-lon1)\n",
    "    a = math.sin(dlat/2) * math.sin(dlat/2) + math.cos(math.radians(lat1)) \\\n",
    "* math.cos(math.radians(lat2)) * math.sin(dlon/2) * math.sin(dlon/2)\n",
    "    c = 2 * math.atan2(math.sqrt(a), math.sqrt(1-a))\n",
    "    d = radius * c\n",
    "    return d\n",
    "\n",
    "data['distance'] = data.apply(lambda row: round(distance(\n",
    "    row['start_station_lat'], row['start_station_lon'], row['end_station_lat'], row['end_station_lon']), 1),\n",
    "                             axis=1)\n",
    "\n",
    "data.tail()\n"
   ]
  },
  {
   "cell_type": "markdown",
   "metadata": {},
   "source": [
    "#### Let's see how many rides in which a person unlocks and returns a bike at a same station"
   ]
  },
  {
   "cell_type": "code",
   "execution_count": 28,
   "metadata": {},
   "outputs": [
    {
     "data": {
      "text/plain": [
       "26797"
      ]
     },
     "execution_count": 28,
     "metadata": {},
     "output_type": "execute_result"
    }
   ],
   "source": [
    "data.distance[data['distance'] == 0].count()"
   ]
  },
  {
   "cell_type": "markdown",
   "metadata": {},
   "source": [
    "#### And where are these trips with 0 distance?"
   ]
  },
  {
   "cell_type": "code",
   "execution_count": 29,
   "metadata": {},
   "outputs": [
    {
     "data": {
      "text/plain": [
       "<matplotlib.axes._subplots.AxesSubplot at 0x1a2afc44a8>"
      ]
     },
     "execution_count": 29,
     "metadata": {},
     "output_type": "execute_result"
    },
    {
     "data": {
      "image/png": "[encoded data removed]",
      "text/plain": [
       "<Figure size 720x432 with 1 Axes>"
      ]
     },
     "metadata": {},
     "output_type": "display_data"
    }
   ],
   "source": [
    "data.municipality[data['distance'] == 0].value_counts().plot.pie()"
   ]
  },
  {
   "cell_type": "markdown",
   "metadata": {},
   "source": [
    "#### So Boston and Cambridge are where people tend to do a round trip"
   ]
  },
  {
   "cell_type": "markdown",
   "metadata": {},
   "source": [
    "#### Let's see the distribution of the distance variable"
   ]
  },
  {
   "cell_type": "code",
   "execution_count": 30,
   "metadata": {},
   "outputs": [
    {
     "data": {
      "text/plain": [
       "count    756042.000000\n",
       "mean          2.399981\n",
       "std           1.678836\n",
       "min           0.000000\n",
       "25%           1.200000\n",
       "50%           2.000000\n",
       "75%           3.200000\n",
       "max          15.700000\n",
       "Name: distance, dtype: float64"
      ]
     },
     "execution_count": 30,
     "metadata": {},
     "output_type": "execute_result"
    },
    {
     "data": {
      "image/png": "[encoded data removed]",
      "text/plain": [
       "<Figure size 720x432 with 1 Axes>"
      ]
     },
     "metadata": {},
     "output_type": "display_data"
    }
   ],
   "source": [
    "data.distance.plot.hist(bins=8,density=False, color='g', alpha=0.8).set(\n",
    "    xlabel='Distance of trip (miles)', ylabel='Number of trips')\n",
    "data.distance.describe()"
   ]
  },
  {
   "cell_type": "markdown",
   "metadata": {},
   "source": [
    "#### So most of the trips are under 3.2 miles"
   ]
  },
  {
   "cell_type": "markdown",
   "metadata": {},
   "source": [
    "#### Let's see if the trip distance is different for Customer riders vs Subscriber riders"
   ]
  },
  {
   "cell_type": "code",
   "execution_count": 31,
   "metadata": {},
   "outputs": [
    {
     "data": {
      "text/plain": [
       "0    0.5m - 2m\n",
       "1    0.5m - 2m\n",
       "2    0.5m - 2m\n",
       "3    0.5m - 2m\n",
       "4    0.5m - 2m\n",
       "Name: distance_bins, dtype: category\n",
       "Categories (4, object): [0.5m - 2m < 2m - 3.5m < 3.5m - 5m < More than 5m]"
      ]
     },
     "execution_count": 31,
     "metadata": {},
     "output_type": "execute_result"
    }
   ],
   "source": [
    "data['distance_bins'] = pd.cut(data.distance, bins=[0.5,2,3.5,5,15.7],\n",
    "       labels=(['0.5m - 2m','2m - 3.5m','3.5m - 5m','More than 5m']), right=True)\n",
    "data.distance_bins.head()"
   ]
  },
  {
   "cell_type": "code",
   "execution_count": 32,
   "metadata": {},
   "outputs": [
    {
     "data": {
      "text/plain": [
       "[Text(0, 0.5, 'Distance'),\n",
       " Text(0.5, 0, 'Percentage'),\n",
       " Text(0.5, 1.0, 'Difference in trip distance between Customer and Subscriber')]"
      ]
     },
     "execution_count": 32,
     "metadata": {},
     "output_type": "execute_result"
    },
    {
     "data": {
      "image/png": "[encoded data removed]",
      "text/plain": [
       "<Figure size 720x432 with 1 Axes>"
      ]
     },
     "metadata": {},
     "output_type": "display_data"
    }
   ],
   "source": [
    "pd.crosstab(index=data.distance_bins, columns=data.user_type).apply(\n",
    "    lambda x: round((x/x.sum()),2) * 100, axis=1).plot(kind='barh', stacked=True, width=0.5).set(\n",
    "    title='Difference in trip distance between Customer and Subscriber', ylabel='Distance', xlabel='Percentage')"
   ]
  },
  {
   "cell_type": "markdown",
   "metadata": {},
   "source": [
    "#### It is pretty clear that as the distance increases, there's an increase in the number of rides made by Customer riders"
   ]
  },
  {
   "cell_type": "markdown",
   "metadata": {},
   "source": [
    "### In conclusion, about 75% of rides from January 2019 to June 2019 are made by subscriber riders. However, subscribers’ trips tend to be shorter than that of customers (10 minutes vs 20 minutes). Moreover, trip duration for subscribers actually seem to be similar throughout the week, whereas for customers, it tends to be longer during weekends.\n"
   ]
  },
  {
   "cell_type": "markdown",
   "metadata": {},
   "source": [
    "### In terms of bike stations, we’ve seen that the most popular stations are not necessarily the ones with the most number of docks.\n"
   ]
  },
  {
   "cell_type": "markdown",
   "metadata": {},
   "source": [
    "### Lastly, regarding distance traveled, about 3.6% of all the trips (27000 out of 756000) are round trips (i.e. trips in which riders unlock and return a bike at a same station). And again, we see another difference in distance between the two categories of riders. Particularly, as the distance increases, there's also an increase in the number of rides made by customers.\n"
   ]
  }
 ],
 "metadata": {
  "kernelspec": {
   "display_name": "Python 3",
   "language": "python",
   "name": "python3"
  },
  "language_info": {
   "codemirror_mode": {
    "name": "ipython",
    "version": 3
   },
   "file_extension": ".py",
   "mimetype": "text/x-python",
   "name": "python",
   "nbconvert_exporter": "python",
   "pygments_lexer": "ipython3",
   "version": "3.7.3"
  }
 },
 "nbformat": 4,
 "nbformat_minor": 2
}
